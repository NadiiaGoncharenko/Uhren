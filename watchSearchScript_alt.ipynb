{
 "cells": [
  {
   "cell_type": "code",
   "execution_count": 8,
   "id": "a113e8f7-3198-4808-84cc-e6dad73a4710",
   "metadata": {},
   "outputs": [],
   "source": [
    "# All libraries:\n",
    "\n",
    "from urllib.request import urlopen\n",
    "from bs4 import BeautifulSoup\n",
    "import re\n",
    "import csv\n",
    "import pandas as pd\n",
    "import datetime as dt\n",
    "import requests\n",
    "import mysql\n",
    "import mysql.connector\n",
    "\n",
    "import webbrowser\n"
   ]
  },
  {
   "cell_type": "markdown",
   "id": "46276e9f-ba02-4345-8b41-7f36e015d3f0",
   "metadata": {},
   "source": [
    "Probeabfrage: https://www.chrono24.at/search/index.htm?braceletMaterial=410&caseMaterials=9&currencyId=EUR&dosearch=true&manufacturerIds=221&maxAgeInDays=0&models=3&pageSize=60&redirectToSearchIndex=true&resultview=block&sortorder=0"
   ]
  },
  {
   "cell_type": "code",
   "execution_count": 10,
   "id": "e719e86b-004e-4305-9b32-db2d2720f654",
   "metadata": {},
   "outputs": [],
   "source": [
    "# Connect to database:\n",
    "\n",
    "\n",
    "conn = mysql.connector.connect(\n",
    "    host= \"127.0.0.1\",\n",
    "    user = \"watchsearch1\", \n",
    "    password = \"watchsearch1\",\n",
    "    database = \"watchsearch\"\n",
    ")\n",
    "\n",
    "cur = conn.cursor()\n",
    "\n"
   ]
  },
  {
   "cell_type": "code",
   "execution_count": 11,
   "id": "4f07dbd0-c732-4787-b994-1e5966ef08a1",
   "metadata": {},
   "outputs": [
    {
     "name": "stdout",
     "output_type": "stream",
     "text": [
      "('alerter',)\n",
      "('url',)\n",
      "('user',)\n",
      "[]\n"
     ]
    }
   ],
   "source": [
    "# Existiert Tabelle?\n",
    "\n",
    "cur.execute('''SHOW TABLES''')\n",
    "for x in cur:\n",
    "    print(x)\n",
    "\n",
    "cur.execute('''SELECT * FROM alerter''')\n",
    "result = cur.fetchall()\n",
    "conn.commit\n",
    "print(result)"
   ]
  },
  {
   "cell_type": "code",
   "execution_count": 3,
   "id": "0ca59465-0ef9-4b01-b2ed-37bb885a01fb",
   "metadata": {},
   "outputs": [
    {
     "name": "stdout",
     "output_type": "stream",
     "text": [
      "[('%s',), ('/rolex/rolex-gmt-master-tiger-eye---nipple-dial---ref-1675---absolute-fullset---1973----id26347615.htm',), ('/rolex/rolex-gmt-master-1675-nipple-dial-stahl--gold-jubilee-band-bestzustand-unpoliert--2-nos-inlay--id26618914.htm',), ('/rolex/gmt-master-tiger-eye--nipple-dial-stahl--gold-oyster-perpetual-16753--id26499358.htm',), ('/rolex/gmt-master-ii-tigerauge---ref-16753---edelstahl--18k-gelbgold---jubileeband---automatik---plexiglas---jahr-ca-19811982--id23551139.htm',), ('/rolex/oyster-perpetual-gmt-master-vintage-1984-ref-16753--id26310571.htm',), ('/rolex/rolex-gmt-master--id26324915.htm',), ('/rolex/rolex-gmt-master-full-set-unpolished-unpoliert-lc100--id26440454.htm',), ('/rolex/gmt-master---stahl--gelbgold---armband-stahl--gelbgold--jubile---40mm---sehr-gut---vintage--id23586869.htm',), ('/rolex/rolex-gmt-master--id23891881.htm',), ('/rolex/rolex-gmt-master-steel-and-gold-ref1675-brown-nipple-dial-from-1975--id26508278.htm',), ('/rolex/gmt-master-tiger-eye-nipple-dial--id26064074.htm',), ('/rolex/gmt-master-herren-stahlgold---ref16753---top-zustand--id26019939.htm',), ('/rolex/rolex-gmt-master--id21810003.htm',), ('/rolex/oyster-perpetual-gmt-master-vintage-ca-1987-ref-16753--id24012103.htm',), ('/rolex/rolex-1979-rolex-gmt-master-1675-steel--gold-root-beer-tiger-eye--id26387496.htm',), ('/rolex/rolex-gmt-master--id26036153.htm',), ('/rolex/rolex-gmt-master-16753-ultra-rare-quraysh-hawk--for-uae-ministry-of-defense-virated-dial--id25075096.htm',), ('/rolex/rolex-oyster-perpetual-gmt-master--1986--id26513405.htm',), ('/rolex/-gmt-master-steel-and-gold-ref16753-nipple-dial-from-1979--id18780572.htm',), ('/rolex/gmt-master-ref-16753-acciaio-oro--id7496162.htm',), ('/rolex/rolex-rolex-gmt-master-ref-16753--beautiful-patina--1979--id21389993.htm',), ('/rolex/rolex-rolex-gmt-master-16753-40mm-brown-dial-two-tone-jubilee-band-quickset-w-box-and-papers--id24815940.htm',), ('/rolex/rolex-unpolished-1985-tt-gmt-master-16753-model-w-original-rolex-box--id26071048.htm',), ('/rolex/gmt-master-1675-jubilee-two-tone-nipple-steel-gold-black-dial-watch-box--id24582499.htm',), ('/rolex/rolex-gmt-master--id26255376.htm',), ('/rolex/rolex-gmt-master-two-tone-jubilee-18k-gold-and-steel-16753--id23038159.htm',), ('/rolex/rolex-gmt-master-1675-steel-gold-black-nipple-dial-1978-mint-dial--id26445538.htm',), ('/rolex/rolex-gmt-master--id26099978.htm',), ('/rolex/gmt-master-ref-16753-acciaio-oro--id7496148.htm',), ('/rolex/rolex-gmt-master-nipple-dial-rootbeer-16753--id24043765.htm',), ('/rolex/rolex-steel--gold-gmt-master-16753--id15482030.htm',), ('/rolex/rolex-gmt-master--id17166052.htm',), ('/rolex/gmt-master-1675-two-tone-gold-nipple-steel-oyster-band-watch-box--id26050728.htm',), ('/rolex/rolex-gmt-master-16753-brown-colour-tiger-eye-nipple-dial-full-set-1981s--id23310595.htm',), ('/rolex/rolex-gmt-master--id24303275.htm',), ('/rolex/gmt-master-root-beer-2-tones-rare-t-swiss-t-brown-nipple-dial-1675-circa-1972--id23146514.htm',), ('/rolex/rolex-gmt-master--id24413238.htm',), ('/rolex/rolex-gmt-master-rootbeer-nipple-dial-16753-tiger-eye--id24151345.htm',), ('/rolex/rolex-gmt-master-16753-jubilee--id22299991.htm',), ('/rolex/rolex-gmt-master--id25067580.htm',), ('/rolex/gmt-master-1675-nipple-dial-14k-gold-and-stainless-1978-box-papers--id18561505.htm',), ('/rolex/1989-rolex-gmt-master-16753-jubilee-two-tone-yellow-gold-and-steel-black-dial-watch--id25143474.htm',), ('/rolex/rolex-gmt-master-1675-black-tiger-eye-nipple-dial-full-set-1970s--id26511429.htm',), ('/rolex/rolex-gmt-master--id26076066.htm',), ('/rolex/rolex-gmt-master-16753-occhio-di-tigre-full-set--id25872124.htm',), ('/rolex/gmt-master-tiger-eye-nipple-dial-con-service-40mm-in-acciaio-e-oro-giallo-18kt-ref-16753--id25851850.htm',), ('/rolex/rolex-gmt-master-rootbeer-18k-yellow-gold--stainless-steel-16753-1972-complete-extremely-rare--id23505727.htm',), ('/rolex/rolex-gmt-master--id24823860.htm',), ('/rolex/rolex-gmt-master-ref-16753-two-tone-unpolished-with-sticker-on-caseback--id23513400.htm',), ('/rolex/vintage-1984-rolex-gmt-master-glossy-nipple-16753-root-beer-tt-jubilee-watch--id25739870.htm',), ('/rolex/rolex-gmt-master-nipple-dial-with-box-jubilee--id20138544.htm',), ('/rolex/taschenuhr-gmt-master-vintage-acciaiooro-garanzia-rolex--id22995555.htm',), ('/rolex/gmt-master--id25595661.htm',), ('/rolex/gmt-master-occhio-di-tigre--id26263439.htm',), ('/rolex/gmt-master--id24385539.htm',), ('/rolex/gmt-master--id25066480.htm',), ('/rolex/rolex-gmt-master--id26583507.htm',), ('/rolex/rolex-gmt-master-root-beer-automatic-steel--18k-gold-ref16753--id25830622.htm',), ('/rolex/rolex-gmt-master-16753-tiffany-dial--id25684111.htm',), ('/rolex/gmt-master--id25678887.htm',)]\n"
     ]
    }
   ],
   "source": [
    "# Test mit For-Loop\n",
    "\n",
    "alertnr = 1\n",
    "\n",
    "for x in range(6):\n",
    "    sql_url_query = \"\"\"SELECT watchurl, user_fk FROM alerter WHERE AlerterID = %s \"\"\"\n",
    "    cur.execute(sql_url_query, (alertnr, ))\n",
    "    r = cur.fetchall()\n",
    "    for x in r:\n",
    "        URL = str(x[0])\n",
    "        user = x[1]\n",
    "    conn.commit()\n",
    "    print(alerter)\n",
    "    print(URL)\n",
    "    print(user)\n",
    "    alerter += 1\n",
    "\n"
   ]
  },
  {
   "cell_type": "code",
   "execution_count": 4,
   "id": "ba83a8f8-207e-4214-8d8b-ffbf6cf9f588",
   "metadata": {},
   "outputs": [
    {
     "name": "stdout",
     "output_type": "stream",
     "text": [
      "3 221 410 09\n"
     ]
    }
   ],
   "source": [
    "\n",
    "\n",
    "URL = 'https://www.chrono24.at/search/index.htm?dosearch=true&' + 'braceletMaterial=' + bracelet + '&caseMaterials=' + caseMaterial + '&manufacturerIds=' + brand + '&maxAgeInDays=0' + '&models=' + name +'&pageSize=60&redirectToSearchIndex=true&resultview=block&sortorder=0'\n"
   ]
  },
  {
   "cell_type": "markdown",
   "id": "afbebe45-36bb-4f23-a604-242cb7e6a9b8",
   "metadata": {},
   "source": [
    "3 = GMT-Master\n",
    "221 = Rolex\n",
    "09 = Gold/Stahl\n",
    "410 = Gold/Stahl"
   ]
  },
  {
   "cell_type": "code",
   "execution_count": 5,
   "id": "b0b1743e-1c00-41ac-b1c5-9b51a5f03ac4",
   "metadata": {},
   "outputs": [
    {
     "data": {
      "text/plain": [
       "['/rolex/rolex-gmt-master-tiger-eye---nipple-dial---ref-1675---absolute-fullset---1973----id26347615.htm',\n",
       " '/rolex/gmt-master---stahl--gelbgold---armband-stahl--gelbgold--jubile---40mm---sehr-gut---vintage--id23586869.htm',\n",
       " '/rolex/gmt-master-tiger-eye--nipple-dial-stahl--gold-oyster-perpetual-16753--id26499358.htm',\n",
       " '/rolex/gmt-master-ii-tigerauge---ref-16753---edelstahl--18k-gelbgold---jubileeband---automatik---plexiglas---jahr-ca-19811982--id23551139.htm',\n",
       " '/rolex/oyster-perpetual-gmt-master-vintage-1984-ref-16753--id26310571.htm',\n",
       " '/rolex/rolex-gmt-master-1675-nipple-dial-stahl--gold-jubilee-band-bestzustand-unpoliert--2-nos-inlay--id26618914.htm',\n",
       " '/rolex/rolex-gmt-master-full-set-unpolished-unpoliert-lc100--id26440454.htm',\n",
       " '/rolex/rolex-gmt-master--id26076066.htm',\n",
       " '/rolex/gmt-master-40mm-ref-1675-tiger-eye-aus-1978--id26312710.htm',\n",
       " '/rolex/rolex-gmt-master--id23891881.htm',\n",
       " '/rolex/gmt-master-tiger-eye-nipple-dial--id26064074.htm',\n",
       " '/rolex/rolex-rolex-gmt-master-ref-16753--beautiful-patina--1979--id21389993.htm',\n",
       " '/rolex/-gmt-master-steel-and-gold-ref16753-nipple-dial-from-1979--id18780572.htm',\n",
       " '/rolex/oyster-perpetual-gmt-master-vintage-ca-1987-ref-16753--id24012103.htm',\n",
       " '/rolex/gmt-master-herren-stahlgold---ref16753---top-zustand--id26019939.htm',\n",
       " '/rolex/rolex-gmt-master-16753-ultra-rare-quraysh-hawk--for-uae-ministry-of-defense-virated-dial--id25075096.htm',\n",
       " '/rolex/rolex-gmt-master--id24303275.htm',\n",
       " '/rolex/rolex-gmt-master--id26324915.htm',\n",
       " '/rolex/rolex-unpolished-1985-tt-gmt-master-16753-model-w-original-rolex-box--id26071048.htm',\n",
       " '/rolex/rolex-gmt-master--id26036153.htm',\n",
       " '/rolex/gmt-master-1675-jubilee-two-tone-nipple-steel-gold-black-dial-watch-box--id24582499.htm',\n",
       " '/rolex/rolex-gmt-master-steel-and-gold-ref1675-brown-nipple-dial-from-1975--id26508278.htm',\n",
       " '/rolex/-gmt-16753--94----id25386610.htm',\n",
       " '/rolex/rolex-gmt-master-two-tone-jubilee-18k-gold-and-steel-16753--id23038159.htm',\n",
       " '/rolex/rolex-gmt-master-16753-brown-colour-tiger-eye-nipple-dial-full-set-1981s--id23310595.htm',\n",
       " '/rolex/rolex-steel--gold-gmt-master-16753--id15482030.htm',\n",
       " '/rolex/rolex-gmt-master-nipple-dial--id25767333.htm',\n",
       " '/rolex/rolex-gmt-master-root-beer-steel--18k-gold-tropical-nipple-dial-1985--id21039321.htm',\n",
       " '/rolex/rolex-gmt-master-nipple-dial-with-box-jubilee--id20138544.htm',\n",
       " '/rolex/gmt-master-1675-jubilee-two-tone-nipple-steel-gold-root-beer-watch-box--id24629764.htm',\n",
       " '/rolex/gmt-master-root-beer-2-tones-rare-t-swiss-t-brown-nipple-dial-1675-circa-1972--id23146514.htm',\n",
       " '/rolex/-gmt-16753---61----id25385980.htm',\n",
       " '/rolex/rolex-gmt-master--id21816662.htm',\n",
       " '/rolex/rolex-gmt-master-1675-tiger-eye-black-nipple-dial-1978s--id22493519.htm',\n",
       " '/rolex/rolex-rolex-gmt-master-16753-nipple-dial-aus-april-1982--id26468740.htm',\n",
       " '/rolex/rolex-gmt-master--id25966822.htm',\n",
       " '/rolex/rolex-gmt-master--id24823860.htm',\n",
       " '/rolex/rolex-gmt-master--id17166052.htm',\n",
       " '/rolex/gmt-master-1675-two-tone-gold-nipple-steel-oyster-band-watch-box--id26050728.htm',\n",
       " '/rolex/rolex-gmt-master--id26888308.htm',\n",
       " '/rolex/-gmt-16753--94----id25386975.htm',\n",
       " '/rolex/rolex-oyster-perpetual-gmt-master--1986--id26513405.htm',\n",
       " '/rolex/rolex-gmt-master-1675-black-colour-tiger-eyes-dial-1970s--id26371995.htm',\n",
       " '/rolex/vintage-1984-rolex-gmt-master-glossy-nipple-16753-root-beer-tt-jubilee-watch--id25739870.htm',\n",
       " '/rolex/gmt-master--id25066480.htm',\n",
       " '/rolex/gmt-master-steel-two-tone-40-mm-black-nipple-dial-watch-16753-circa-1982--id20811896.htm',\n",
       " '/rolex/rolex-gmt-master-16753-from-1987--id25814833.htm',\n",
       " '/rolex/1989-rolex-gmt-master-16753-jubilee-two-tone-yellow-gold-and-steel-black-dial-watch--id26921967.htm',\n",
       " '/rolex/rolex-gmt-master-nipple-dial-rootbeer-16753--id24043765.htm',\n",
       " '/rolex/taschenuhr-gmt-master-vintage-acciaiooro-garanzia-rolex--id22995555.htm',\n",
       " '/rolex/-gmt-16753--65----id25386484.htm',\n",
       " '/rolex/gmt-master--id25595661.htm',\n",
       " '/rolex/gmt-master-occhio-di-tigre--id26263439.htm',\n",
       " '/rolex/rolex-gmt-master-1675-black-tiger-eye-nipple-dial-full-set-1970s--id26511429.htm',\n",
       " '/rolex/gmt-master--id25993813.htm',\n",
       " '/rolex/gmt-master--id25678887.htm',\n",
       " '/rolex/gmt-master--id26503430.htm',\n",
       " '/rolex/gmt-master-tiger-eye-nipple-dial-con-service-40mm-in-acciaio-e-oro-giallo-18kt-ref-16753--id25851850.htm',\n",
       " '/rolex/gmt-master-nipple-dial--id23220759.htm',\n",
       " '/rolex/gmt-master--id24385539.htm']"
      ]
     },
     "execution_count": 5,
     "metadata": {},
     "output_type": "execute_result"
    }
   ],
   "source": [
    "# Scrape URL - alte Version: Speichern in Liste \n",
    "\n",
    "\n",
    "html = requests.get(URL)\n",
    "bs = BeautifulSoup(html.content, 'html.parser')\n",
    "\n",
    "xl = []\n",
    "\n",
    "for entry in bs.find_all('a', class_ = 'article-item block-item rcard'):\n",
    "    link = entry['href']\n",
    "    xl.append(link)\n",
    "    #print(link)\n",
    "    \n",
    "# jetzt muss man die links in einer Liste speichern    \n",
    "xl    \n"
   ]
  },
  {
   "cell_type": "markdown",
   "id": "e3d86768-b1e5-4838-b92b-a9522f98a135",
   "metadata": {},
   "source": [
    "# NOTIZ:\n",
    "\n",
    "unique key: uhren-URL && userId\n",
    "\n",
    "try:\n",
    "    speichere Ergebnis in Tabelle \n",
    "except \"Unique constraint Error\":\n",
    "    pass\n",
    "else:\n",
    "    verschicke email mit Ergebnis\n",
    "\n",
    "\n"
   ]
  },
  {
   "cell_type": "markdown",
   "id": "1cfd9890-851b-49d8-9c5e-02c852d9338c",
   "metadata": {},
   "source": [
    "# Alerter\n",
    "\n",
    "Tabelle Alerter, spalte url: davon scrapen"
   ]
  },
  {
   "cell_type": "code",
   "execution_count": null,
   "id": "c13c61ce-1268-461b-a093-5a0a63c0a335",
   "metadata": {},
   "outputs": [],
   "source": [
    "sql_url_query = \"\"\"SELECT url FROM alerter WHERE userId = %s \"\"\"\n",
    "i = 0\n",
    "userId += i\n",
    "\n",
    "cursor.execute(sql_url_query, userId)\n",
    "connection.commit()\n",
    "\n",
    "\n",
    "\n",
    "user_query= '''SELECT userId FROM alerter'''\n",
    "users = cur.fetchall()\n",
    "conn.commit\n",
    "\n",
    "sql_url_query = \"\"\"SELECT watchurl FROM alerter WHERE userId = %s \"\"\"\n",
    "\n",
    "for x in users:\n",
    "    cursor.execute(sql_url_query, userId)\n",
    "    connection.commit()\n",
    "\n",
    "\n",
    "\n",
    "cursor.execute(sql_url_query, userId)\n",
    "connection.commit()\n"
   ]
  },
  {
   "cell_type": "code",
   "execution_count": null,
   "id": "1b8f53d4-e4b3-4a9d-9a75-fab81d97e5ab",
   "metadata": {},
   "outputs": [],
   "source": [
    "#Erster Versuch sprapen und in Datenbank speichern:\n",
    "    \n",
    "\n",
    "html = requests.get(URL)\n",
    "bs = BeautifulSoup(html.content, 'html.parser')\n",
    "\n",
    "newEntries = []\n",
    "\n",
    "try:\n",
    "    for entry in bs.find_all('a', class_ = 'article-item block-item rcard'):\n",
    "        link = entry['href']\n",
    "        cur.execute(\"\"\"INSERT INTO url ( ErgebnisURL, Alerter_fk, user_fk) VALUES (%s, %s, %s)\"\"\", (link, alerter, user))\n",
    "        conn.commit()\n",
    "        newEntries.append(link)\n",
    "        \n",
    "except mysql.connector.IntegrityError:\n",
    "    pass\n",
    "\n",
    "# gefundene url zwischenspeichern\n",
    "print(newEntries)"
   ]
  },
  {
   "cell_type": "code",
   "execution_count": 67,
   "id": "a9165b95-06e6-4568-8297-d59b82a13e81",
   "metadata": {},
   "outputs": [],
   "source": [
    "# Scrapen und speichern in Tabelle\n",
    "\n",
    "\n",
    "\n",
    "URL = 'https://www.chrono24.at/search/index.htm?currencyId=EUR&dosearch=true&manufacturerIds=18&maxAgeInDays=0&models=112&pageSize=60&priceFrom=11000&priceTo=15000&redirectToSearchIndex=true&resultview=block&sortorder=0'\n",
    "\n",
    "\n",
    "\n",
    "cur.execute('''SELECT url FROM url WHERE userid = i''')\n",
    "result = cur.fetchall()\n",
    "conn.commit\n",
    "\n",
    "\n",
    "\n",
    "\n",
    "\n",
    "# ab hier bereit zum Übernehmen\n",
    "html = requests.get(URL)\n",
    "\n",
    "bs = BeautifulSoup(html.content, 'html.parser')\n",
    "\n",
    "\n",
    "for entry in bs.find_all('a', class_ = 'article-item block-item rcard'):\n",
    "    link = entry['href']\n",
    "    cur.execute(\"\"\"INSERT INTO URL (WATCHURL) VALUES (%s)\"\"\", (link,))\n",
    "\n",
    "conn.commit()\n"
   ]
  },
  {
   "cell_type": "code",
   "execution_count": null,
   "id": "8cb74bfc-dde6-4a2f-8d71-66d94e189e58",
   "metadata": {},
   "outputs": [],
   "source": [
    "# scrapen und speichern mit zusätzlichen Infos\n",
    "\n",
    "for entry in bs.find_all('a', class_ = 'article-item block-item rcard'):\n",
    "    link = entry['href']\n",
    "    cur.execute(\"\"\"INSERT INTO URL (WATCHURL, USERID, Alerterid) VALUES (%s, %s, %s)\"\"\", (link, userId, AlerterId))\n",
    "\n",
    "conn.commit()\n"
   ]
  },
  {
   "cell_type": "code",
   "execution_count": 9,
   "id": "1dfe49d0-2f3e-48fa-9ed6-9f06dc12605b",
   "metadata": {},
   "outputs": [
    {
     "name": "stdout",
     "output_type": "stream",
     "text": [
      "[('/audemarspiguet/jules--id24422939.htm',), ('/audemarspiguet/audemars-piguet-jules-audemars-extra-thin--id23611726.htm',), ('/audemarspiguet/jules-audemars-25859ba-gelbgold-750-chronograph-1999-automatik-18kt-yellow-gold--id26411174.htm',), ('/audemarspiguet/jules-small-seconds-15056bc-wg18k750-boxpapiereservice--id26555556.htm',), ('/audemarspiguet/----77240bczza808cr01--id21380916.htm',), ('/audemarspiguet/audemars-piguet-jules-25859st-chronograph-gray-dial-automatic-full-set-1999s--id25452186.htm',), ('/audemarspiguet/audemars-piguet-jules-audemars--id25073776.htm',), ('/audemarspiguet/jules-audemars-25685ba--id26451666.htm',), ('/audemarspiguet/audemars-piguet-jules-audemars-15093orooa002cr01---rose-gold---box--papers---12-month-warranty---2010--id22276839.htm',), ('/audemarspiguet/audemars-piguet-jules-canape-18k-gold-automatic-mens-watch-canape--id23629580.htm',), ('/audemarspiguet/jules-rose-gold-white-dial-diamond-mens-watch-15103--id22388142.htm',), ('/audemarspiguet/audemars-piguet-jules-audemars--id25754469.htm',), ('/audemarspiguet/jules-audemars-chronograph--id24237186.htm',), ('/audemarspiguet/----77240bczza808cr01--id21842082.htm',), ('/audemarspiguet/---25859stoo001cr02----id26472485.htm',), ('/audemarspiguet/audemars-piguet-jules-audemars--id21769183.htm',), ('/audemarspiguet/audemars-piguet-calendar-mens-watch-boxbooks-26385or-jules-18k--id22918919.htm',), ('/audemarspiguet/jules-audemars-extra-thin-automatic-15180bc-18k-solid-gold--id5458326.htm',), ('/audemarspiguet/audemars-piguet-jules-audemars--id23328610.htm',), ('/audemarspiguet/audemars-piguet-jules-audemars--id21881764.htm',), ('/audemarspiguet/jules-audemars-18k-rose-gold--id4125713.htm',), ('/audemarspiguet/jules-audemars--id25751668.htm',), ('/audemarspiguet/----77240bczza808cr01--id21382213.htm',), ('/audemarspiguet/jules-audemars--id25507511.htm',), ('/audemarspiguet/jules-audemars--id26197016.htm',), ('/audemarspiguet/audemars-piguet-jules-audemars--id25280385.htm',), ('/audemarspiguet/audemars-piguet-jules-audemars-selfwinding-15171--id26393035.htm',), ('/audemarspiguet/audemars-piguet-calendar-26385or-18k-rose-gold--id23286446.htm',), ('/audemarspiguet/audemars-piguet-jules-audemars-dual-time--id25369551.htm',), ('/audemarspiguet/audemars-piguet-jules-audemars--id19332474.htm',), ('/audemarspiguet/----77240bczza808cr01--id21210014.htm',), ('/audemarspiguet/----77240bczza808cr01--id20972986.htm',), ('/audemarspiguet/----77240bczza808cr01--id21210013.htm',), ('/audemarspiguet/audemars-piguet-jules-audemars-selfwinding-15171--id24820458.htm',), ('/audemarspiguet/----77240bczza808cr01--id21382307.htm',), ('/audemarspiguet/----77240bczza808cr01--id23037001.htm',)]\n"
     ]
    }
   ],
   "source": [
    "# Abfrage schon gespeicherter URLs\n",
    "\n",
    "cur.execute('''SELECT * FROM audemarspiguet''')\n",
    "result = cur.fetchall()\n",
    "conn.commit\n",
    "print(result)"
   ]
  },
  {
   "cell_type": "markdown",
   "id": "b8cc4348-ef7f-403c-9d4f-672b7af1244c",
   "metadata": {},
   "source": []
  },
  {
   "cell_type": "code",
   "execution_count": 21,
   "id": "9e3d24d2-b93a-4002-9259-59768e47f259",
   "metadata": {},
   "outputs": [
    {
     "ename": "InternalError",
     "evalue": "Unread result found",
     "output_type": "error",
     "traceback": [
      "\u001b[1;31m---------------------------------------------------------------------------\u001b[0m",
      "\u001b[1;31mInternalError\u001b[0m                             Traceback (most recent call last)",
      "\u001b[1;32m~\\AppData\\Local\\Temp/ipykernel_21888/3055775994.py\u001b[0m in \u001b[0;36m<module>\u001b[1;34m\u001b[0m\n\u001b[1;32m----> 1\u001b[1;33m \u001b[0mcur\u001b[0m\u001b[1;33m.\u001b[0m\u001b[0mexecute\u001b[0m\u001b[1;33m(\u001b[0m\u001b[1;34m'''SELECT email FROM user  '''\u001b[0m\u001b[1;33m)\u001b[0m\u001b[1;33m\u001b[0m\u001b[1;33m\u001b[0m\u001b[0m\n\u001b[0m\u001b[0;32m      2\u001b[0m \u001b[0mreceiver\u001b[0m \u001b[1;33m=\u001b[0m \u001b[0mcur\u001b[0m\u001b[1;33m.\u001b[0m\u001b[0mfetchall\u001b[0m\u001b[1;33m(\u001b[0m\u001b[1;33m)\u001b[0m\u001b[1;33m\u001b[0m\u001b[1;33m\u001b[0m\u001b[0m\n\u001b[0;32m      3\u001b[0m \u001b[0mconn\u001b[0m\u001b[1;33m.\u001b[0m\u001b[0mcommit\u001b[0m\u001b[1;33m\u001b[0m\u001b[1;33m\u001b[0m\u001b[0m\n\u001b[0;32m      4\u001b[0m \u001b[0mprint\u001b[0m\u001b[1;33m(\u001b[0m\u001b[0mreceiver\u001b[0m\u001b[1;33m)\u001b[0m\u001b[1;33m\u001b[0m\u001b[1;33m\u001b[0m\u001b[0m\n",
      "\u001b[1;32m~\\anaconda3\\lib\\site-packages\\mysql\\connector\\cursor.py\u001b[0m in \u001b[0;36mexecute\u001b[1;34m(self, operation, params, multi)\u001b[0m\n\u001b[0;32m    519\u001b[0m             \u001b[1;32mraise\u001b[0m \u001b[0merrors\u001b[0m\u001b[1;33m.\u001b[0m\u001b[0mProgrammingError\u001b[0m\u001b[1;33m(\u001b[0m\u001b[1;34m\"Cursor is not connected\"\u001b[0m\u001b[1;33m)\u001b[0m\u001b[1;33m\u001b[0m\u001b[1;33m\u001b[0m\u001b[0m\n\u001b[0;32m    520\u001b[0m \u001b[1;33m\u001b[0m\u001b[0m\n\u001b[1;32m--> 521\u001b[1;33m         \u001b[0mself\u001b[0m\u001b[1;33m.\u001b[0m\u001b[0m_connection\u001b[0m\u001b[1;33m.\u001b[0m\u001b[0mhandle_unread_result\u001b[0m\u001b[1;33m(\u001b[0m\u001b[1;33m)\u001b[0m\u001b[1;33m\u001b[0m\u001b[1;33m\u001b[0m\u001b[0m\n\u001b[0m\u001b[0;32m    522\u001b[0m \u001b[1;33m\u001b[0m\u001b[0m\n\u001b[0;32m    523\u001b[0m         \u001b[0mself\u001b[0m\u001b[1;33m.\u001b[0m\u001b[0m_reset_result\u001b[0m\u001b[1;33m(\u001b[0m\u001b[1;33m)\u001b[0m\u001b[1;33m\u001b[0m\u001b[1;33m\u001b[0m\u001b[0m\n",
      "\u001b[1;32m~\\anaconda3\\lib\\site-packages\\mysql\\connector\\connection.py\u001b[0m in \u001b[0;36mhandle_unread_result\u001b[1;34m(self)\u001b[0m\n\u001b[0;32m   1057\u001b[0m             \u001b[0mself\u001b[0m\u001b[1;33m.\u001b[0m\u001b[0mconsume_results\u001b[0m\u001b[1;33m(\u001b[0m\u001b[1;33m)\u001b[0m\u001b[1;33m\u001b[0m\u001b[1;33m\u001b[0m\u001b[0m\n\u001b[0;32m   1058\u001b[0m         \u001b[1;32melif\u001b[0m \u001b[0mself\u001b[0m\u001b[1;33m.\u001b[0m\u001b[0munread_result\u001b[0m\u001b[1;33m:\u001b[0m\u001b[1;33m\u001b[0m\u001b[1;33m\u001b[0m\u001b[0m\n\u001b[1;32m-> 1059\u001b[1;33m             \u001b[1;32mraise\u001b[0m \u001b[0merrors\u001b[0m\u001b[1;33m.\u001b[0m\u001b[0mInternalError\u001b[0m\u001b[1;33m(\u001b[0m\u001b[1;34m\"Unread result found\"\u001b[0m\u001b[1;33m)\u001b[0m\u001b[1;33m\u001b[0m\u001b[1;33m\u001b[0m\u001b[0m\n\u001b[0m",
      "\u001b[1;31mInternalError\u001b[0m: Unread result found"
     ]
    }
   ],
   "source": [
    "# neue urls und gespeicherte urls vergleichen"
   ]
  },
  {
   "cell_type": "code",
   "execution_count": 1,
   "id": "90e51c22-5a98-4893-aac6-62cef8eb3807",
   "metadata": {},
   "outputs": [],
   "source": [
    "# wenn neue url gefunden: email wird geschickt "
   ]
  },
  {
   "cell_type": "markdown",
   "id": "5135286d-81de-48ee-89b5-d78e089f2b09",
   "metadata": {},
   "source": [
    "ergebnisse in URL , Column ErgebnisURL speichern\n",
    "und dann vergleichen\n"
   ]
  },
  {
   "cell_type": "code",
   "execution_count": 17,
   "id": "d12c5efc-f125-434d-bace-46fded062e85",
   "metadata": {},
   "outputs": [],
   "source": [
    "# gefundene url zwischenspeichern\n"
   ]
  },
  {
   "cell_type": "code",
   "execution_count": null,
   "id": "d3a69027-eadb-41a4-92b2-2234f2792aad",
   "metadata": {},
   "outputs": [],
   "source": [
    "# Abfragen der e-mail aus Datenbank - PASST NOCH NICHT\n",
    "\n",
    "cur.execute('''SELECT email FROM user WHERE id= %s''', UserId)\n",
    "c = cur.fetchone()\n",
    "receiver = str(c[0])\n",
    "conn.commit\n",
    "\n"
   ]
  },
  {
   "cell_type": "code",
   "execution_count": null,
   "id": "aa492872-ce18-4bdf-a8f6-8eecdc22ccdf",
   "metadata": {},
   "outputs": [],
   "source": [
    "# email Verschicken\n",
    "\n",
    "import smtplib\n",
    "import ssl\n",
    "from email.message import EmailMessage\n",
    "\n",
    "# Define email sender and receiver\n",
    "email_sender = 'searchforchrono@gmail.com'\n",
    "email_password = 'xqmdjtzjznhviung'\n",
    "email_receiver = receiver\n",
    "\n",
    "# Set the subject and body of the email\n",
    "subject = 'We found something new for you!'\n",
    "body = 'Go to this link: ' + uniqueUrl\n",
    "\n",
    "em = EmailMessage()\n",
    "em['From'] = email_sender\n",
    "em['To'] = email_receiver\n",
    "em['Subject'] = subject\n",
    "em.set_content(body)\n",
    "\n",
    "# Add SSL (layer of security)\n",
    "context = ssl.create_default_context()\n",
    "\n",
    "# Log in and send the email\n",
    "with smtplib.SMTP_SSL('smtp.gmail.com', 465, context=context) as smtp:\n",
    "    smtp.login(email_sender, email_password)\n",
    "    smtp.sendmail(email_sender, email_receiver, em.as_string())"
   ]
  }
 ],
 "metadata": {
  "kernelspec": {
   "display_name": "Python 3 (ipykernel)",
   "language": "python",
   "name": "python3"
  },
  "language_info": {
   "codemirror_mode": {
    "name": "ipython",
    "version": 3
   },
   "file_extension": ".py",
   "mimetype": "text/x-python",
   "name": "python",
   "nbconvert_exporter": "python",
   "pygments_lexer": "ipython3",
   "version": "3.9.7"
  }
 },
 "nbformat": 4,
 "nbformat_minor": 5
}

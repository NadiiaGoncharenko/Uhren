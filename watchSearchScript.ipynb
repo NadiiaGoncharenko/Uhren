{
 "cells": [
  {
   "cell_type": "code",
   "execution_count": 1,
   "id": "a113e8f7-3198-4808-84cc-e6dad73a4710",
   "metadata": {},
   "outputs": [],
   "source": [
    "# All libraries:\n",
    "\n",
    "from urllib.request import urlopen\n",
    "from bs4 import BeautifulSoup\n",
    "import re\n",
    "import csv\n",
    "import pandas as pd\n",
    "import datetime as dt\n",
    "import requests\n",
    "import mysql.connector\n",
    "\n",
    "import webbrowser\n"
   ]
  },
  {
   "cell_type": "markdown",
   "id": "46276e9f-ba02-4345-8b41-7f36e015d3f0",
   "metadata": {},
   "source": [
    "Probeabfrage: https://www.chrono24.at/search/index.htm?braceletMaterial=410&caseMaterials=9&currencyId=EUR&dosearch=true&manufacturerIds=221&maxAgeInDays=0&models=3&pageSize=60&redirectToSearchIndex=true&resultview=block&sortorder=0"
   ]
  },
  {
   "cell_type": "code",
   "execution_count": 3,
   "id": "e719e86b-004e-4305-9b32-db2d2720f654",
   "metadata": {},
   "outputs": [
    {
     "name": "stdout",
     "output_type": "stream",
     "text": [
      "('user',)\n",
      "('watch',)\n",
      "[(1, '3', '221', None, None, None, None, None, '410', '09', None, None, None, None)]\n"
     ]
    }
   ],
   "source": [
    "# Connect to database:\n",
    "\n",
    "\n",
    "conn = mysql.connector.connect(\n",
    "    host= \"127.0.0.1\",\n",
    "    user = \"watchsearch\", \n",
    "    password = \"watchsearch\",\n",
    "    database = \"watchsearch\"\n",
    ")\n",
    "\n",
    "cur = conn.cursor()\n",
    "\n",
    "cur.execute('''SHOW TABLES''')\n",
    "for x in cur:\n",
    "    print(x)\n",
    "\n",
    "cur.execute('''SELECT * FROM watch''')\n",
    "result = cur.fetchall()\n",
    "\n",
    "\n",
    "conn.commit\n",
    "\n",
    "print(result)\n",
    "\n",
    "\n"
   ]
  },
  {
   "cell_type": "code",
   "execution_count": 8,
   "id": "0ca59465-0ef9-4b01-b2ed-37bb885a01fb",
   "metadata": {},
   "outputs": [
    {
     "name": "stdout",
     "output_type": "stream",
     "text": [
      "Requirement already satisfied: mysql-connector-python in c:\\users\\konny\\anaconda3\\lib\\site-packages (8.0.28)\n",
      "Requirement already satisfied: protobuf>=3.0.0 in c:\\users\\konny\\anaconda3\\lib\\site-packages (from mysql-connector-python) (3.19.4)\n",
      "Note: you may need to restart the kernel to use updated packages.\n"
     ]
    }
   ],
   "source": []
  },
  {
   "cell_type": "code",
   "execution_count": null,
   "id": "a83d740a-a27c-4a20-a88e-97ef477601a8",
   "metadata": {},
   "outputs": [],
   "source": [
    "#insert to database\n",
    "\n",
    "\n",
    "cur.execute('''INSERT INTO table VALUES(?, ?, ?)''', variable1, variable2, variable3)\n",
    "\n",
    "## nachdem alles erledigt ist\n",
    "conn.commit\n",
    "          \n",
    "          \n",
    "          \n",
    "## und als letztes unbedingt:\n",
    "          conn.close\n",
    "\n"
   ]
  },
  {
   "cell_type": "code",
   "execution_count": 4,
   "id": "ba83a8f8-207e-4214-8d8b-ffbf6cf9f588",
   "metadata": {},
   "outputs": [
    {
     "name": "stdout",
     "output_type": "stream",
     "text": [
      "https://www.chrono24.at/search/index.htm?dosearch=true&braceletMaterial=410&caseMaterials=09&manufacturerIds=221&maxAgeInDays=0&models=3&pageSize=60&redirectToSearchIndex=true&resultview=block&sortorder=0\n"
     ]
    }
   ],
   "source": [
    "# Build URL:\n",
    "\n",
    "\n",
    "\n",
    "cur.execute('''SELECT name FROM watch WHERE id=1''')\n",
    "c = cur.fetchone()\n",
    "name = str(c[0])\n",
    "\n",
    "cur.execute('''SELECT brand FROM watch WHERE id=1''')\n",
    "c = cur.fetchone()\n",
    "brand = str(c[0])\n",
    "\n",
    "cur.execute('''SELECT material FROM watch WHERE id=1''')\n",
    "c = cur.fetchone()\n",
    "bracelet = str(c[0])\n",
    "\n",
    "cur.execute('''SELECT color FROM watch WHERE id=1''')\n",
    "c = cur.fetchone()\n",
    "caseMaterial = str(c[0])\n",
    "\n",
    "URL = 'https://www.chrono24.at/search/index.htm?dosearch=true&' + 'braceletMaterial=' + bracelet + '&caseMaterials=' + caseMaterial + '&manufacturerIds=' + brand + '&maxAgeInDays=0' + '&models=' + name +'&pageSize=60&redirectToSearchIndex=true&resultview=block&sortorder=0'\n",
    "\n",
    "print(URL)"
   ]
  },
  {
   "cell_type": "markdown",
   "id": "afbebe45-36bb-4f23-a604-242cb7e6a9b8",
   "metadata": {},
   "source": [
    "3 = GMT-Master\n",
    "221 = Rolex\n",
    "09 = Gold/Stahl\n",
    "410 = Gold/Stahl"
   ]
  },
  {
   "cell_type": "code",
   "execution_count": 6,
   "id": "b0b1743e-1c00-41ac-b1c5-9b51a5f03ac4",
   "metadata": {},
   "outputs": [
    {
     "data": {
      "text/plain": [
       "['/rolex/rolex-gmt-master-1675-nipple-dial-stahl--gold-jubilee-band-bestzustand-unpoliert--2-nos-inlay--id26618914.htm',\n",
       " '/rolex/gmt-master-tiger-eye--nipple-dial-stahl--gold-oyster-perpetual-16753--id26499358.htm',\n",
       " '/rolex/gmt-master-ii-tigerauge---ref-16753---edelstahl--18k-gelbgold---jubileeband---automatik---plexiglas---jahr-ca-19811982--id23551139.htm',\n",
       " '/rolex/rolex-gmt-master--id26324915.htm',\n",
       " '/rolex/oyster-perpetual-gmt-master-vintage-1984-ref-16753--id26310571.htm',\n",
       " '/rolex/rolex-gmt-master-full-set-unpolished-unpoliert-lc100--id26440454.htm',\n",
       " '/rolex/rolex-gmt-master--id23891881.htm',\n",
       " '/rolex/gmt-master---stahl--gelbgold---armband-stahl--gelbgold--jubile---40mm---sehr-gut---vintage--id23586869.htm',\n",
       " '/rolex/rolex-gmt-master-steel-and-gold-ref1675-brown-nipple-dial-from-1975--id26508278.htm',\n",
       " '/rolex/gmt-master-herren-stahlgold---ref16753---top-zustand--id26019939.htm',\n",
       " '/rolex/gmt-master-tiger-eye-nipple-dial--id26064074.htm',\n",
       " '/rolex/rolex-gmt-master--id21810003.htm',\n",
       " '/rolex/rolex-1979-rolex-gmt-master-1675-steel--gold-root-beer-tiger-eye--id26387496.htm',\n",
       " '/rolex/oyster-perpetual-gmt-master-vintage-ca-1987-ref-16753--id24012103.htm',\n",
       " '/rolex/rolex-gmt-master-16753-ultra-rare-quraysh-hawk--for-uae-ministry-of-defense-virated-dial--id25075096.htm',\n",
       " '/rolex/rolex-gmt-master--id26036153.htm',\n",
       " '/rolex/rolex-gmt-master--id17166052.htm',\n",
       " '/rolex/-gmt-master-steel-and-gold-ref16753-nipple-dial-from-1979--id18780572.htm',\n",
       " '/rolex/rolex-oyster-perpetual-gmt-master--1986--id26513405.htm',\n",
       " '/rolex/gmt-master-ref-16753-acciaio-oro--id7496162.htm',\n",
       " '/rolex/rolex-rolex-gmt-master-ref-16753--beautiful-patina--1979--id21389993.htm',\n",
       " '/rolex/rolex-rolex-gmt-master-16753-40mm-brown-dial-two-tone-jubilee-band-quickset-w-box-and-papers--id24815940.htm',\n",
       " '/rolex/rolex-unpolished-1985-tt-gmt-master-16753-model-w-original-rolex-box--id26071048.htm',\n",
       " '/rolex/rolex-gmt-master--id26255376.htm',\n",
       " '/rolex/gmt-master-1675-jubilee-two-tone-nipple-steel-gold-black-dial-watch-box--id24582499.htm',\n",
       " '/rolex/rolex-gmt-master-two-tone-jubilee-18k-gold-and-steel-16753--id23038159.htm',\n",
       " '/rolex/rolex-gmt-master-1675-steel-gold-black-nipple-dial-1978-mint-dial--id26445538.htm',\n",
       " '/rolex/rolex-gmt-master--id26099978.htm',\n",
       " '/rolex/gmt-master-ref-16753-acciaio-oro--id7496148.htm',\n",
       " '/rolex/rolex-gmt-master-nipple-dial-rootbeer-16753--id24043765.htm',\n",
       " '/rolex/rolex-gmt-master-16753-brown-colour-tiger-eye-nipple-dial-full-set-1981s--id23310595.htm',\n",
       " '/rolex/rolex-steel--gold-gmt-master-16753--id15482030.htm',\n",
       " '/rolex/gmt-master-root-beer-2-tones-rare-t-swiss-t-brown-nipple-dial-1675-circa-1972--id23146514.htm',\n",
       " '/rolex/1989-rolex-gmt-master-16753-jubilee-two-tone-yellow-gold-and-steel-black-dial-watch--id25143474.htm',\n",
       " '/rolex/rolex-gmt-master-rootbeer-nipple-dial-16753-tiger-eye--id24151345.htm',\n",
       " '/rolex/rolex-gmt-master-16753-jubilee--id22299991.htm',\n",
       " '/rolex/rolex-gmt-master--id24413238.htm',\n",
       " '/rolex/rolex-gmt-master-16753-occhio-di-tigre-full-set--id25872124.htm',\n",
       " '/rolex/rolex-gmt-master--id25067580.htm',\n",
       " '/rolex/rolex-gmt-master-1675-black-tiger-eye-nipple-dial-full-set-1970s--id26511429.htm',\n",
       " '/rolex/gmt-master-1675-nipple-dial-14k-gold-and-stainless-1978-box-papers--id18561505.htm',\n",
       " '/rolex/rolex-gmt-master-tiger-eye---nipple-dial---ref-1675---absolute-fullset---1973----id26347615.htm',\n",
       " '/rolex/gmt-master-1675-jubilee-two-tone-nipple-steel-gold-root-beer-watch-box--id24629764.htm',\n",
       " '/rolex/rolex-gmt-master--id24823860.htm',\n",
       " '/rolex/vintage-1984-rolex-gmt-master-glossy-nipple-16753-root-beer-tt-jubilee-watch--id25739870.htm',\n",
       " '/rolex/rolex-gmt-master-rootbeer-18k-yellow-gold--stainless-steel-16753-1972-complete-extremely-rare--id23505727.htm',\n",
       " '/rolex/gmt-master-tiger-eye-nipple-dial-con-service-40mm-in-acciaio-e-oro-giallo-18kt-ref-16753--id25851850.htm',\n",
       " '/rolex/rolex-gmt-master-ref-16753-two-tone-unpolished-with-sticker-on-caseback--id23513400.htm',\n",
       " '/rolex/rolex-gmt-master-nipple-dial-with-box-jubilee--id20138544.htm',\n",
       " '/rolex/gmt-master--id24385539.htm',\n",
       " '/rolex/rolex-gmt-master-root-beer-automatic-steel--18k-gold-ref16753--id25830622.htm',\n",
       " '/rolex/taschenuhr-gmt-master-vintage-acciaiooro-garanzia-rolex--id22995555.htm',\n",
       " '/rolex/gmt-master-occhio-di-tigre--id26263439.htm',\n",
       " '/rolex/gmt-master-1675-two-tone-gold-nipple-steel-oyster-band-watch-box--id26050728.htm',\n",
       " '/rolex/rolex-gmt-master--id26583507.htm',\n",
       " '/rolex/gmt-master--id25595661.htm',\n",
       " '/rolex/gmt-master--id25066480.htm',\n",
       " '/rolex/gmt-master--id25678887.htm',\n",
       " '/rolex/rolex-gmt-master-nipple-dial--id25767333.htm',\n",
       " '/rolex/gmt-master--id25993813.htm']"
      ]
     },
     "execution_count": 6,
     "metadata": {},
     "output_type": "execute_result"
    }
   ],
   "source": [
    "# Scrape URL:\n",
    "\n",
    "\n",
    "html = requests.get(URL)\n",
    "\n",
    "\n",
    "bs = BeautifulSoup(html.content, 'html.parser')\n",
    "\n",
    "xl = []\n",
    "\n",
    "for entry in bs.find_all('a', class_ = 'article-item block-item rcard'):\n",
    "    link = entry['href']\n",
    "    xl.append(link)\n",
    "    #print(link)\n",
    "    \n",
    "# jetzt muss man die links in einer Liste speichern    \n",
    "xl    \n"
   ]
  },
  {
   "cell_type": "code",
   "execution_count": null,
   "id": "49f3ca78-ad52-4c1b-a133-5d353745b929",
   "metadata": {},
   "outputs": [],
   "source": [
    "# URL wieder zusammenbauen:\n",
    "\n",
    "directlink = \"https://www.chrono24.at\" + entry"
   ]
  },
  {
   "cell_type": "code",
   "execution_count": 8,
   "id": "cf90ee0e-1cf2-44ce-a35c-990a454f5afa",
   "metadata": {},
   "outputs": [],
   "source": [
    "# Create Table\n",
    "sql = '''CREATE TABLE ROLEXMASTER (\n",
    "    LINK TEXT UNIQUE\n",
    "    )'''\n",
    "cur.execute(sql)    \n"
   ]
  },
  {
   "cell_type": "markdown",
   "id": "5eaab4cb-c122-42f3-b311-8db869933f54",
   "metadata": {},
   "source": [
    "## Alternative for: Create Table\n",
    "sql = '''CREATE TABLE ROLEXMASTER (\n",
    "    LINK TEXT UNIQUE,\n",
    "    date DATE\n",
    "    )'''\n",
    "cur.execute(sql)   "
   ]
  },
  {
   "cell_type": "code",
   "execution_count": 20,
   "id": "a9165b95-06e6-4568-8297-d59b82a13e81",
   "metadata": {},
   "outputs": [
    {
     "ename": "ProgrammingError",
     "evalue": "1064 (42000): You have an error in your SQL syntax; check the manual that corresponds to your MariaDB server version for the right syntax to use near '%s)' at line 1",
     "output_type": "error",
     "traceback": [
      "\u001b[1;31m---------------------------------------------------------------------------\u001b[0m",
      "\u001b[1;31mProgrammingError\u001b[0m                          Traceback (most recent call last)",
      "\u001b[1;32m~\\AppData\\Local\\Temp/ipykernel_10556/3905607477.py\u001b[0m in \u001b[0;36m<module>\u001b[1;34m\u001b[0m\n\u001b[0;32m      1\u001b[0m \u001b[1;32mfor\u001b[0m \u001b[0mentry\u001b[0m \u001b[1;32min\u001b[0m \u001b[0mbs\u001b[0m\u001b[1;33m.\u001b[0m\u001b[0mfind_all\u001b[0m\u001b[1;33m(\u001b[0m\u001b[1;34m'a'\u001b[0m\u001b[1;33m,\u001b[0m \u001b[0mclass_\u001b[0m \u001b[1;33m=\u001b[0m \u001b[1;34m'article-item block-item rcard'\u001b[0m\u001b[1;33m)\u001b[0m\u001b[1;33m:\u001b[0m\u001b[1;33m\u001b[0m\u001b[1;33m\u001b[0m\u001b[0m\n\u001b[0;32m      2\u001b[0m     \u001b[0mlink\u001b[0m \u001b[1;33m=\u001b[0m \u001b[0mentry\u001b[0m\u001b[1;33m[\u001b[0m\u001b[1;34m'href'\u001b[0m\u001b[1;33m]\u001b[0m\u001b[1;33m\u001b[0m\u001b[1;33m\u001b[0m\u001b[0m\n\u001b[1;32m----> 3\u001b[1;33m     \u001b[0mcur\u001b[0m\u001b[1;33m.\u001b[0m\u001b[0mexecute\u001b[0m\u001b[1;33m(\u001b[0m\u001b[1;34m\"\"\"INSERT INTO ROLEXMASTER (LINK) VALUES (%s)\"\"\"\u001b[0m\u001b[1;33m,\u001b[0m \u001b[1;33m(\u001b[0m\u001b[0mlink\u001b[0m\u001b[1;33m)\u001b[0m\u001b[1;33m)\u001b[0m\u001b[1;33m\u001b[0m\u001b[1;33m\u001b[0m\u001b[0m\n\u001b[0m\u001b[0;32m      4\u001b[0m \u001b[1;33m\u001b[0m\u001b[0m\n\u001b[0;32m      5\u001b[0m \u001b[1;33m\u001b[0m\u001b[0m\n",
      "\u001b[1;32m~\\anaconda3\\lib\\site-packages\\mysql\\connector\\cursor.py\u001b[0m in \u001b[0;36mexecute\u001b[1;34m(self, operation, params, multi)\u001b[0m\n\u001b[0;32m    549\u001b[0m         \u001b[1;32melse\u001b[0m\u001b[1;33m:\u001b[0m\u001b[1;33m\u001b[0m\u001b[1;33m\u001b[0m\u001b[0m\n\u001b[0;32m    550\u001b[0m             \u001b[1;32mtry\u001b[0m\u001b[1;33m:\u001b[0m\u001b[1;33m\u001b[0m\u001b[1;33m\u001b[0m\u001b[0m\n\u001b[1;32m--> 551\u001b[1;33m                 \u001b[0mself\u001b[0m\u001b[1;33m.\u001b[0m\u001b[0m_handle_result\u001b[0m\u001b[1;33m(\u001b[0m\u001b[0mself\u001b[0m\u001b[1;33m.\u001b[0m\u001b[0m_connection\u001b[0m\u001b[1;33m.\u001b[0m\u001b[0mcmd_query\u001b[0m\u001b[1;33m(\u001b[0m\u001b[0mstmt\u001b[0m\u001b[1;33m)\u001b[0m\u001b[1;33m)\u001b[0m\u001b[1;33m\u001b[0m\u001b[1;33m\u001b[0m\u001b[0m\n\u001b[0m\u001b[0;32m    552\u001b[0m             \u001b[1;32mexcept\u001b[0m \u001b[0merrors\u001b[0m\u001b[1;33m.\u001b[0m\u001b[0mInterfaceError\u001b[0m\u001b[1;33m:\u001b[0m\u001b[1;33m\u001b[0m\u001b[1;33m\u001b[0m\u001b[0m\n\u001b[0;32m    553\u001b[0m                 \u001b[1;32mif\u001b[0m \u001b[0mself\u001b[0m\u001b[1;33m.\u001b[0m\u001b[0m_connection\u001b[0m\u001b[1;33m.\u001b[0m\u001b[0m_have_next_result\u001b[0m\u001b[1;33m:\u001b[0m  \u001b[1;31m# pylint: disable=W0212\u001b[0m\u001b[1;33m\u001b[0m\u001b[1;33m\u001b[0m\u001b[0m\n",
      "\u001b[1;32m~\\anaconda3\\lib\\site-packages\\mysql\\connector\\connection.py\u001b[0m in \u001b[0;36mcmd_query\u001b[1;34m(self, query, raw, buffered, raw_as_string)\u001b[0m\n\u001b[0;32m    488\u001b[0m         \u001b[1;32mif\u001b[0m \u001b[1;32mnot\u001b[0m \u001b[0misinstance\u001b[0m\u001b[1;33m(\u001b[0m\u001b[0mquery\u001b[0m\u001b[1;33m,\u001b[0m \u001b[0mbytes\u001b[0m\u001b[1;33m)\u001b[0m\u001b[1;33m:\u001b[0m\u001b[1;33m\u001b[0m\u001b[1;33m\u001b[0m\u001b[0m\n\u001b[0;32m    489\u001b[0m             \u001b[0mquery\u001b[0m \u001b[1;33m=\u001b[0m \u001b[0mquery\u001b[0m\u001b[1;33m.\u001b[0m\u001b[0mencode\u001b[0m\u001b[1;33m(\u001b[0m\u001b[1;34m'utf-8'\u001b[0m\u001b[1;33m)\u001b[0m\u001b[1;33m\u001b[0m\u001b[1;33m\u001b[0m\u001b[0m\n\u001b[1;32m--> 490\u001b[1;33m         \u001b[0mresult\u001b[0m \u001b[1;33m=\u001b[0m \u001b[0mself\u001b[0m\u001b[1;33m.\u001b[0m\u001b[0m_handle_result\u001b[0m\u001b[1;33m(\u001b[0m\u001b[0mself\u001b[0m\u001b[1;33m.\u001b[0m\u001b[0m_send_cmd\u001b[0m\u001b[1;33m(\u001b[0m\u001b[0mServerCmd\u001b[0m\u001b[1;33m.\u001b[0m\u001b[0mQUERY\u001b[0m\u001b[1;33m,\u001b[0m \u001b[0mquery\u001b[0m\u001b[1;33m)\u001b[0m\u001b[1;33m)\u001b[0m\u001b[1;33m\u001b[0m\u001b[1;33m\u001b[0m\u001b[0m\n\u001b[0m\u001b[0;32m    491\u001b[0m \u001b[1;33m\u001b[0m\u001b[0m\n\u001b[0;32m    492\u001b[0m         \u001b[1;32mif\u001b[0m \u001b[0mself\u001b[0m\u001b[1;33m.\u001b[0m\u001b[0m_have_next_result\u001b[0m\u001b[1;33m:\u001b[0m\u001b[1;33m\u001b[0m\u001b[1;33m\u001b[0m\u001b[0m\n",
      "\u001b[1;32m~\\anaconda3\\lib\\site-packages\\mysql\\connector\\connection.py\u001b[0m in \u001b[0;36m_handle_result\u001b[1;34m(self, packet)\u001b[0m\n\u001b[0;32m    393\u001b[0m             \u001b[1;32mreturn\u001b[0m \u001b[0mself\u001b[0m\u001b[1;33m.\u001b[0m\u001b[0m_handle_eof\u001b[0m\u001b[1;33m(\u001b[0m\u001b[0mpacket\u001b[0m\u001b[1;33m)\u001b[0m\u001b[1;33m\u001b[0m\u001b[1;33m\u001b[0m\u001b[0m\n\u001b[0;32m    394\u001b[0m         \u001b[1;32melif\u001b[0m \u001b[0mpacket\u001b[0m\u001b[1;33m[\u001b[0m\u001b[1;36m4\u001b[0m\u001b[1;33m]\u001b[0m \u001b[1;33m==\u001b[0m \u001b[1;36m255\u001b[0m\u001b[1;33m:\u001b[0m\u001b[1;33m\u001b[0m\u001b[1;33m\u001b[0m\u001b[0m\n\u001b[1;32m--> 395\u001b[1;33m             \u001b[1;32mraise\u001b[0m \u001b[0merrors\u001b[0m\u001b[1;33m.\u001b[0m\u001b[0mget_exception\u001b[0m\u001b[1;33m(\u001b[0m\u001b[0mpacket\u001b[0m\u001b[1;33m)\u001b[0m\u001b[1;33m\u001b[0m\u001b[1;33m\u001b[0m\u001b[0m\n\u001b[0m\u001b[0;32m    396\u001b[0m \u001b[1;33m\u001b[0m\u001b[0m\n\u001b[0;32m    397\u001b[0m         \u001b[1;31m# We have a text result set\u001b[0m\u001b[1;33m\u001b[0m\u001b[1;33m\u001b[0m\u001b[0m\n",
      "\u001b[1;31mProgrammingError\u001b[0m: 1064 (42000): You have an error in your SQL syntax; check the manual that corresponds to your MariaDB server version for the right syntax to use near '%s)' at line 1"
     ]
    }
   ],
   "source": [
    "\n",
    "for entry in bs.find_all('a', class_ = 'article-item block-item rcard'):\n",
    "    link = entry['href']\n",
    "    cur.execute(\"\"\"INSERT INTO ROLEXMASTER (LINK) VALUES (%s)\"\"\", (link))\n",
    "\n",
    "\n",
    "conn.commit()\n"
   ]
  },
  {
   "cell_type": "code",
   "execution_count": null,
   "id": "1dfe49d0-2f3e-48fa-9ed6-9f06dc12605b",
   "metadata": {},
   "outputs": [],
   "source": []
  }
 ],
 "metadata": {
  "kernelspec": {
   "display_name": "Python 3 (ipykernel)",
   "language": "python",
   "name": "python3"
  },
  "language_info": {
   "codemirror_mode": {
    "name": "ipython",
    "version": 3
   },
   "file_extension": ".py",
   "mimetype": "text/x-python",
   "name": "python",
   "nbconvert_exporter": "python",
   "pygments_lexer": "ipython3",
   "version": "3.9.7"
  }
 },
 "nbformat": 4,
 "nbformat_minor": 5
}

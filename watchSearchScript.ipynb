{
 "cells": [
  {
   "cell_type": "code",
   "execution_count": 9,
   "id": "a113e8f7-3198-4808-84cc-e6dad73a4710",
   "metadata": {},
   "outputs": [],
   "source": [
    "# All libraries:\n",
    "\n",
    "from urllib.request import urlopen\n",
    "from bs4 import BeautifulSoup\n",
    "import re\n",
    "import csv\n",
    "import pandas as pd\n",
    "import datetime as dt\n",
    "import requests\n",
    "import mysql.connector\n",
    "\n",
    "import webbrowser\n"
   ]
  },
  {
   "cell_type": "markdown",
   "id": "46276e9f-ba02-4345-8b41-7f36e015d3f0",
   "metadata": {},
   "source": [
    "Probeabfrage: https://www.chrono24.at/search/index.htm?braceletMaterial=410&caseMaterials=9&currencyId=EUR&dosearch=true&manufacturerIds=221&maxAgeInDays=0&models=3&pageSize=60&redirectToSearchIndex=true&resultview=block&sortorder=0"
   ]
  },
  {
   "cell_type": "code",
   "execution_count": 12,
   "id": "e719e86b-004e-4305-9b32-db2d2720f654",
   "metadata": {},
   "outputs": [
    {
     "name": "stdout",
     "output_type": "stream",
     "text": [
      "('user',)\n",
      "('watch',)\n",
      "[(1, '3', '221', None, None, None, None, None, '410', '09', None, None, None, None)]\n"
     ]
    }
   ],
   "source": [
    "# Connect to database:\n",
    "\n",
    "\n",
    "conn = mysql.connector.connect(\n",
    "    host= \"127.0.0.1\",\n",
    "    user = \"watchsearch\", \n",
    "    password = \"watchsearch\",\n",
    "    database = \"watchsearch\"\n",
    ")\n",
    "\n",
    "cur = conn.cursor()\n",
    "\n",
    "cur.execute('''SHOW TABLES''')\n",
    "for x in cur:\n",
    "    print(x)\n",
    "\n",
    "cur.execute('''SELECT * FROM watch''')\n",
    "result = cur.fetchall()\n",
    "\n",
    "\n",
    "conn.commit\n",
    "\n",
    "print(result)\n",
    "\n",
    "\n"
   ]
  },
  {
   "cell_type": "code",
   "execution_count": 8,
   "id": "0ca59465-0ef9-4b01-b2ed-37bb885a01fb",
   "metadata": {},
   "outputs": [
    {
     "name": "stdout",
     "output_type": "stream",
     "text": [
      "Requirement already satisfied: mysql-connector-python in c:\\users\\konny\\anaconda3\\lib\\site-packages (8.0.28)\n",
      "Requirement already satisfied: protobuf>=3.0.0 in c:\\users\\konny\\anaconda3\\lib\\site-packages (from mysql-connector-python) (3.19.4)\n",
      "Note: you may need to restart the kernel to use updated packages.\n"
     ]
    }
   ],
   "source": []
  },
  {
   "cell_type": "code",
   "execution_count": null,
   "id": "a83d740a-a27c-4a20-a88e-97ef477601a8",
   "metadata": {},
   "outputs": [],
   "source": [
    "#insert to database\n",
    "\n",
    "\n",
    "cur.execute('''INSERT INTO table VALUES(?, ?, ?)''', variable1, variable2, variable3)\n",
    "\n",
    "## nachdem alles erledigt ist\n",
    "conn.commit\n",
    "          \n",
    "          \n",
    "          \n",
    "## und als letztes unbedingt:\n",
    "          conn.close\n",
    "\n"
   ]
  },
  {
   "cell_type": "code",
   "execution_count": 29,
   "id": "ba83a8f8-207e-4214-8d8b-ffbf6cf9f588",
   "metadata": {},
   "outputs": [
    {
     "name": "stdout",
     "output_type": "stream",
     "text": [
      "https://www.chrono24.at/search/index.htm?dosearch=true&braceletMaterial=410&caseMaterials=09&manufacturerIds=221&maxAgeInDays=0&models=3&pageSize=60&redirectToSearchIndex=true&resultview=block&sortorder=0\n"
     ]
    }
   ],
   "source": [
    "# Build URL:\n",
    "\n",
    "\n",
    "\n",
    "cur.execute('''SELECT name FROM watch WHERE id=1''')\n",
    "c = cur.fetchone()\n",
    "name = str(c[0])\n",
    "\n",
    "cur.execute('''SELECT brand FROM watch WHERE id=1''')\n",
    "c = cur.fetchone()\n",
    "brand = str(c[0])\n",
    "\n",
    "cur.execute('''SELECT material FROM watch WHERE id=1''')\n",
    "c = cur.fetchone()\n",
    "bracelet = str(c[0])\n",
    "\n",
    "cur.execute('''SELECT color FROM watch WHERE id=1''')\n",
    "c = cur.fetchone()\n",
    "caseMaterial = str(c[0])\n",
    "\n",
    "URL = 'https://www.chrono24.at/search/index.htm?dosearch=true&' + 'braceletMaterial=' + bracelet + '&caseMaterials=' + caseMaterial + '&manufacturerIds=' + brand + '&maxAgeInDays=0' + '&models=' + name +'&pageSize=60&redirectToSearchIndex=true&resultview=block&sortorder=0'\n",
    "\n",
    "print(URL)"
   ]
  },
  {
   "cell_type": "markdown",
   "id": "afbebe45-36bb-4f23-a604-242cb7e6a9b8",
   "metadata": {},
   "source": [
    "3 = GMT-Master\n",
    "221 = Rolex\n",
    "09 = Gold/Stahl\n",
    "410 = Gold/Stahl"
   ]
  },
  {
   "cell_type": "code",
   "execution_count": 30,
   "id": "b0b1743e-1c00-41ac-b1c5-9b51a5f03ac4",
   "metadata": {},
   "outputs": [
    {
     "name": "stdout",
     "output_type": "stream",
     "text": [
      "/rolex/rolex-gmt-master--id26324915.htm\n",
      "/rolex/gmt-master-tiger-eye--nipple-dial-stahl--gold-oyster-perpetual-16753--id26499358.htm\n",
      "/rolex/rolex-gmt-master-1675-nipple-dial-stahl--gold-jubilee-band-bestzustand-unpoliert--2-nos-inlay--id26618914.htm\n",
      "/rolex/oyster-perpetual-gmt-master-vintage-1984-ref-16753--id26310571.htm\n",
      "/rolex/gmt-master-ii-tigerauge---ref-16753---edelstahl--18k-gelbgold---jubileeband---automatik---plexiglas---jahr-ca-19811982--id23551139.htm\n",
      "/rolex/gmt-master---stahl--gelbgold---armband-stahl--gelbgold--jubile---40mm---sehr-gut---vintage--id23586869.htm\n",
      "/rolex/rolex-gmt-master--id23891881.htm\n",
      "/rolex/gmt-master-herren-stahlgold---ref16753---top-zustand--id26019939.htm\n",
      "/rolex/gmt-master-tiger-eye-nipple-dial--id26064074.htm\n",
      "/rolex/rolex-gmt-master-steel-and-gold-ref1675-brown-nipple-dial-from-1975--id26508278.htm\n",
      "/rolex/rolex-gmt-master-full-set-unpolished-unpoliert-lc100--id26440454.htm\n",
      "/rolex/rolex-gmt-master--id21810003.htm\n",
      "/rolex/oyster-perpetual-gmt-master-vintage-ca-1987-ref-16753--id24012103.htm\n",
      "/rolex/rolex-oyster-perpetual-gmt-master--1986--id26513405.htm\n",
      "/rolex/rolex-1979-rolex-gmt-master-1675-steel--gold-root-beer-tiger-eye--id26387496.htm\n",
      "/rolex/rolex-gmt-master-16753-ultra-rare-quraysh-hawk--for-uae-ministry-of-defense-virated-dial--id25075096.htm\n",
      "/rolex/rolex-gmt-master--id26036153.htm\n",
      "/rolex/gmt-master-ref-16753-acciaio-oro--id7496162.htm\n",
      "/rolex/-gmt-master-steel-and-gold-ref16753-nipple-dial-from-1979--id18780572.htm\n",
      "/rolex/rolex-gmt-master--id26255376.htm\n",
      "/rolex/rolex-rolex-gmt-master-16753-40mm-brown-dial-two-tone-jubilee-band-quickset-w-box-and-papers--id24815940.htm\n",
      "/rolex/-gmt-16753--94----id25386610.htm\n",
      "/rolex/rolex-rolex-gmt-master-ref-16753--beautiful-patina--1979--id21389993.htm\n",
      "/rolex/reference-16753-gmt-master-root-beer--a-stainless-steel-and-yellow-gold-automatic-dual-time-wristwatch-with-date-and-bracelet-circa-1982--id26282265.htm\n",
      "/rolex/rolex-gmt-master--id26099978.htm\n",
      "/rolex/gmt-master-1675-jubilee-two-tone-nipple-steel-gold-black-dial-watch-box--id24582499.htm\n",
      "/rolex/gmt-master-ref-16753-acciaio-oro--id7496148.htm\n",
      "/rolex/rolex-gmt-master-two-tone-jubilee-18k-gold-and-steel-16753--id23038159.htm\n",
      "/rolex/rolex-gmt-master-1675-steel-gold-black-nipple-dial-1978-mint-dial--id26445538.htm\n",
      "/rolex/rolex-gmt-master--id17166052.htm\n",
      "/rolex/-gmt-16753--94----id25386975.htm\n",
      "/rolex/rolex-gmt-master-1675-black-tiger-eye-nipple-dial-full-set-1970s--id26511429.htm\n",
      "/rolex/rolex-gmt-master-nipple-dial-rootbeer-16753--id24043765.htm\n",
      "/rolex/rolex-gmt-master--id24413238.htm\n",
      "/rolex/gmt-master-1675-jubilee-two-tone-nipple-steel-gold-root-beer-watch-box--id24629764.htm\n",
      "/rolex/reference-1675-gmt-master-root-beer--a-yellow-gold-and-stainless-steel-dual-time-zone-automatic-wristwatch-with-date-and-bracelet-circa-1978--id26282289.htm\n",
      "/rolex/rolex-unpolished-1985-tt-gmt-master-16753-model-w-original-rolex-box--id26071048.htm\n",
      "/rolex/rolex-gmt-master-16753-from-1987--id25814833.htm\n",
      "/rolex/rolex-gmt-master-16753-occhio-di-tigre-full-set--id25872124.htm\n",
      "/rolex/-gmt-16753---61----id25385980.htm\n",
      "/rolex/rolex-gmt-master-16753-brown-colour-tiger-eye-nipple-dial-full-set-1981s--id23310595.htm\n",
      "/rolex/rolex-gmt-master-16753-88-mil-series-box-and-papers--id25056106.htm\n",
      "/rolex/rolex-gmt-master-root-beer-steel--18k-gold-tropical-nipple-dial-1985--id21039321.htm\n",
      "/rolex/gmt-master-1675-two-tone-gold-nipple-steel-oyster-band-watch-box--id26050728.htm\n",
      "/rolex/rolex-steel--gold-gmt-master-16753--id15482030.htm\n",
      "/rolex/gmt-master-tiger-eye-nipple-dial-con-service-40mm-in-acciaio-e-oro-giallo-18kt-ref-16753--id25851850.htm\n",
      "/rolex/vintage-1984-rolex-gmt-master-glossy-nipple-16753-root-beer-tt-jubilee-watch--id25739870.htm\n",
      "/rolex/gmt-master-root-beer-2-tones-rare-t-swiss-t-brown-nipple-dial-1675-circa-1972--id23146514.htm\n",
      "/rolex/-gmt-16753--65----id25386484.htm\n",
      "/rolex/gmt-master-1675-nipple-dial-14k-gold-and-stainless-1978-box-papers--id18561505.htm\n",
      "/rolex/rolex-gmt-master-rootbeer-nipple-dial-16753-tiger-eye--id24151345.htm\n",
      "/rolex/gmt-master--id24385539.htm\n",
      "/rolex/1989-rolex-gmt-master-16753-jubilee-two-tone-yellow-gold-and-steel-black-dial-watch--id25143474.htm\n",
      "/rolex/taschenuhr-gmt-master-vintage-acciaiooro-garanzia-rolex--id22995555.htm\n",
      "/rolex/rolex-gmt-master-tiger-eye---nipple-dial---ref-1675---absolute-fullset---1973----id26347615.htm\n",
      "/rolex/gmt-master-steel-two-tone-40-mm-black-nipple-dial-watch-16753-circa-1982--id20811896.htm\n",
      "/rolex/gmt-master-occhio-di-tigre--id26263439.htm\n",
      "/rolex/gmt-master--id25993813.htm\n",
      "/rolex/gmt-master--id25595661.htm\n",
      "/rolex/gmt-master--id25678887.htm\n"
     ]
    }
   ],
   "source": [
    "# Scrape URL:\n",
    "\n",
    "\n",
    "html = requests.get(URL)\n",
    "\n",
    "\n",
    "bs = BeautifulSoup(html.content, 'html.parser')\n",
    "\n",
    "for entry in bs.find_all('a', class_ = 'article-item block-item rcard'):\n",
    "    link = entry['href']\n",
    "    print(link)\n",
    "    \n",
    "# jetzt muss man die links in einer Liste speichern    \n",
    "    \n"
   ]
  },
  {
   "cell_type": "code",
   "execution_count": null,
   "id": "49f3ca78-ad52-4c1b-a133-5d353745b929",
   "metadata": {},
   "outputs": [],
   "source": [
    "# URL wieder zusammenbauen:\n",
    "\n",
    "directlink = \"https://www.chrono24.at\" + entry"
   ]
  }
 ],
 "metadata": {
  "kernelspec": {
   "display_name": "Python 3 (ipykernel)",
   "language": "python",
   "name": "python3"
  },
  "language_info": {
   "codemirror_mode": {
    "name": "ipython",
    "version": 3
   },
   "file_extension": ".py",
   "mimetype": "text/x-python",
   "name": "python",
   "nbconvert_exporter": "python",
   "pygments_lexer": "ipython3",
   "version": "3.9.7"
  }
 },
 "nbformat": 4,
 "nbformat_minor": 5
}

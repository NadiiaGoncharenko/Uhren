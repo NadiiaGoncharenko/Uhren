{
 "cells": [
  {
   "cell_type": "code",
   "execution_count": 96,
   "id": "a113e8f7-3198-4808-84cc-e6dad73a4710",
   "metadata": {},
   "outputs": [],
   "source": [
    "# All libraries:\n",
    "\n",
    "from urllib.request import urlopen\n",
    "from bs4 import BeautifulSoup\n",
    "import re\n",
    "import csv\n",
    "import pandas as pd\n",
    "import datetime as dt\n",
    "import requests\n",
    "import mysql\n",
    "import mysql.connector\n",
    "\n",
    "import webbrowser\n",
    "import time\n",
    "\n",
    "import smtplib\n",
    "import ssl\n",
    "from email.message import EmailMessage"
   ]
  },
  {
   "cell_type": "code",
   "execution_count": 97,
   "id": "e719e86b-004e-4305-9b32-db2d2720f654",
   "metadata": {},
   "outputs": [],
   "source": [
    "# Connect to database:\n",
    "\n",
    "\n",
    "conn = mysql.connector.connect(\n",
    "    host= \"127.0.0.1\",\n",
    "    user = \"watchsearch\", \n",
    "    password = \"watchsearch\",\n",
    "    database = \"watchsearch\"\n",
    ")\n",
    "\n",
    "cur = conn.cursor()\n",
    "\n"
   ]
  },
  {
   "cell_type": "code",
   "execution_count": null,
   "id": "51747891-7d89-4c2a-9883-8b692d076055",
   "metadata": {},
   "outputs": [],
   "source": [
    "alerter_query = \"\"\"SELECT AlerterID FROM alerter\"\"\"\n",
    "\n",
    "cur.execute(alerter_query)\n",
    "ids = cur.fetchall()\n",
    "print(ids)\n",
    "\n",
    "#while True:\n",
    "for id in ids:\n",
    "    alertnr = id[0]"
   ]
  },
  {
   "cell_type": "code",
   "execution_count": 131,
   "id": "e168af7c-376b-4d16-bdbf-7d7c6c554779",
   "metadata": {},
   "outputs": [
    {
     "name": "stdout",
     "output_type": "stream",
     "text": [
      "https://www.chrono24.at/search/index.htm?caseMaterials=7&countryIds=AT&countryIds=CH&countryIds=DE&currencyId=EUR&dosearch=true&manufacturerIds=221&maxAgeInDays=0&models=2&pageSize=60&redirectToSearchIndex=true&resultview=block&sortorder=0\n",
      "2\n"
     ]
    }
   ],
   "source": [
    "# get URL for scraping\n",
    "alertnr = 2\n",
    "\n",
    "sql_url_query = \"\"\"SELECT watchurl, user_fk FROM alerter WHERE AlerterID = %s \"\"\"\n",
    "cur.execute(sql_url_query, (alertnr, ))\n",
    "r = cur.fetchall()\n",
    "conn.commit()\n",
    "for x in r:\n",
    "    URL = x[0]\n",
    "    user = x[1]\n",
    "print(URL)\n",
    "print(user)"
   ]
  },
  {
   "cell_type": "code",
   "execution_count": 132,
   "id": "db594a6a-bc80-4562-aabe-cf2971dae0c6",
   "metadata": {},
   "outputs": [
    {
     "name": "stdout",
     "output_type": "stream",
     "text": [
      "46\n",
      "['/rolex/rolex-daytona-platin-chrono-baguette-dial---like-new--id20714331.htm', '/rolex/rolex-daytona-platin-baguette--id26921817.htm', '/rolex/daytona-ref-116506-950-platinum-diamond-dial-102022-eu-unworn--id26690174.htm', '/rolex/rolex-daytona-116506-baguette--neu--2022--full-set--id23973339.htm', '/rolex/daytona-platin-arabic-dial-2020---116506-verklebt--id26240103.htm', '/rolex/rolex-daytona-like-new-aus-2020--id23789322.htm', '/rolex/rolex-daytona-platin-uhr-116506-papiere-box-neu-ungetragen-2022--id25206335.htm', '/rolex/rolex-daytona-platinum---ice-blue-dial--id26529823.htm', '/rolex/rolex-daytona--platin--ice-blue-baguette-dial--box--papers--2021--id25736093.htm', '/rolex/cosmograph-daytona---full-set----ref-116506--id25574393.htm', '/rolex/daytona---ref-116506---box-amp-de-papiere---950er-platin---baguette-indizes---automatik---jahr-2022--id23885824.htm', '/rolex/daytona-cosmonaute-ref-116506-950-platinum-box-papers-bj-2019-lc100-germany-excellent--id25962024.htm', '/rolex/rolex-daytona-116506--neu--2022--full-set--id23973156.htm', '/rolex/rolex-daytona-cosmograph-40mm-platinum-ice-blue-dial-platine-new-2022--id25477048.htm', '/rolex/rolex-daytona-chronograph-950-platin-116506-factory-diamonds--id26340844.htm', '/rolex/daytona-platinum-ref-116506--6-2021--eu--new--full-set---id26085972.htm', '/rolex/rolex-daytona-116506-platinum-baguette--id25586636.htm', '/rolex/rolex-daytona-ref-116506-iceblau-brillant-baguette-zifferblatt--id23778326.htm', '/rolex/rolex-daytona--id26834167.htm', '/rolex/daytona--id26717026.htm', '/rolex/cosmograph-daytona--id25550973.htm', '/rolex/daytona--id25828869.htm', '/rolex/daytona--id25941922.htm', '/rolex/rolex-daytona-platin-baguette-new-2022-lc-eu-ref116506--id16388973.htm', '/rolex/rolex-rolex-daytona-cosmograph-platinum-like-new--id21956745.htm', '/rolex/rolex-daytona-platinum--diamond-index-2022-new--id23591552.htm', '/rolex/daytona-ref-116506-ice-blue-index-zifferblatt--id2500962.htm', '/rolex/rolex-rolex-daytona-platinum-116506--id18320486.htm', '/rolex/daytona-platin-116506-ice-blue--id23486718.htm', '/rolex/cosmograph-daytona-platinum-baguette-dial--id26063000.htm', '/rolex/rolex-daytona-platin-116506-aus-2020-voll-voll-vollverklebt-inklusive-qr-code-im-fullset--id23214622.htm', '/rolex/cosmograph-daytona--id27005606.htm', '/rolex/rolex-daytona-platinum-new-2022-lc-eu-ref116506--id19049990.htm', '/rolex/daytona-platin---116576tbr--id24913636.htm', '/rolex/rolex-daytona-arabic-in-platinum--diamond-116576tbr--id23580228.htm', '/rolex/rolex-daytona-116506-2014-eu-unpolished-platinum-ice-blue-top--id25175136.htm', '/rolex/rolex-daytona--id26957589.htm', '/rolex/rolex-daytona-ref116506---service-by-rolex---052022--id24836327.htm', '/rolex/-daytona-116506--id25707681.htm', '/rolex/rolex-daytona-in-platinum--diamond-116576tbr--id3090496.htm', '/rolex/cosmograph-daytona--id27005609.htm', '/rolex/rolex-daytona-in-platinum--baguette-diamond-dial---116506--id16585906.htm', '/rolex/daytona-platin-2022---116506--id25686574.htm', '/rolex/daytona-platin-2022---116506--id26411516.htm', '/rolex/cosmograph-daytona-in-platinum--diamond-bezel---116576-tbr--id4371474.htm', '/rolex/rolex-daytona-in-platinum-with-arabic-numerals---116506-0004--id9705944.htm']\n"
     ]
    }
   ],
   "source": [
    "# scrape URL and save (only) new entries to database\n",
    "\n",
    "\n",
    "html = requests.get(URL)\n",
    "bs = BeautifulSoup(html.content, 'html.parser')\n",
    "# gefundene url zwischenspeichern\n",
    "newEntries = []\n",
    "for entry in bs.find_all('a', class_ = 'article-item block-item rcard'):\n",
    "    link = entry['href']\n",
    "    cur.execute(\"SELECT * FROM url WHERE ErgebnisURL = %s\", (link, ))\n",
    "    if cur.fetchone() is None:\n",
    "        cur.execute(\"\"\"INSERT INTO url ( ErgebnisURL, Alerter_fk, user_fk) VALUES (%s, %s, %s)\"\"\", (link, alertnr, user))\n",
    "        conn.commit()\n",
    "        newEntries.append(link)\n",
    "        \n",
    "\n",
    "\n",
    "print(len(newEntries))\n",
    "print(newEntries)"
   ]
  },
  {
   "cell_type": "code",
   "execution_count": 133,
   "id": "8cb1e44d-d58f-4ad9-a96e-b90e9aff45b1",
   "metadata": {},
   "outputs": [
    {
     "name": "stdout",
     "output_type": "stream",
     "text": [
      "69\n",
      "[('/rolex/116519-daytona-beach-blue-nos-full-set-eu--sofort--id8999015.htm',), ('/rolex/rolex-rolex-daytona-116519-black-dial-serial-y--id26216516.htm',), ('/rolex/daytona-cosmograph-ref-16519-18k-white-gold-white-dial-folding-clasp-box-bj-1998--id26328041.htm',), ('/rolex/rolex-daytona-paul-newman-dial-yellow-gold-rare-model-with-factory-crocodile-strap-y-serial--id25399084.htm',), ('/rolex/rolex-cosmograph-daytona-lc100-cal-4030--id26482958.htm',), ('/rolex/rolex-cosmograph-daytona-116515ln-rosegold--id26735035.htm',), ('/rolex/rolex-daytona-cosmograph-18k-gelbgold-unpolished-boxpap-2012-lc170-ref-116518--id25970729.htm',), ('/rolex/daytona-elfenbein-18k-rosegold-oyster-perpetual-ref-116515ln-bp-2016--id25534795.htm',), ('/rolex/rolex-daytona-beach-green-chronograph-116519--id25459541.htm',), ('/rolex/rolex-daytona-cosmograph-meteorite-gold-leather-bracelet--id24358220.htm',), ('/rolex/daytona-ref16528--id26248653.htm',), ('/rolex/daytona-cosmograph-ref-116518-18k-white-gold-rubellite-diamond-dial-box-papers-bj-2005-spain-excellent--id26598135.htm',), ('/rolex/daytona--id26623553.htm',), ('/rolex/daytona-rose-choco-dial-like-new-2012-lc100-ref116515ln--id12496871.htm',), ('/rolex/-daytona-18kt-white-gold-ref116519-black-dial-full-set--id25611756.htm',), ('/rolex/daytona-elfenbein-18k-rosegold-oyster-perpetual-116515ln-bp-2016-lc100--id26857343.htm',), ('/rolex/rolex-daytona-sodalite-zenith--id23136562.htm',), ('/rolex/rolex-daytona-mop-dial---no-polish--id25246048.htm',), ('/rolex/daytona-chronograph-ref-116519-18k-white-gold-folding-clasp-box-papers-bj-2008--id25458154.htm',), ('/rolex/-daytona-zenith-ref-16518-18kt-yellow-gold-from-1991-with-service--id23304050.htm',), ('/rolex/-daytona-zenith-ref-16518-white-diamonds-dial-18kt-yellow-gold-full-set-1995--id23342388.htm',), ('/rolex/rolex-rolex-daytona-116508-mop-diamond-full-set--id25824891.htm',), ('/rolex/rolex-116520-daytona-neu--verklebt-082016-lc-100-b--p-sofort--id1865991.htm',), ('/rolex/rolex-daytona-platin-chrono-baguette-dial---like-new--id20714331.htm',), ('/rolex/rolex-daytona-platin-baguette--id26921817.htm',), ('/rolex/daytona-ref-116506-950-platinum-diamond-dial-102022-eu-unworn--id26690174.htm',), ('/rolex/rolex-daytona-116506-baguette--neu--2022--full-set--id23973339.htm',), ('/rolex/daytona-platin-arabic-dial-2020---116506-verklebt--id26240103.htm',), ('/rolex/rolex-daytona-like-new-aus-2020--id23789322.htm',), ('/rolex/rolex-daytona-platin-uhr-116506-papiere-box-neu-ungetragen-2022--id25206335.htm',), ('/rolex/rolex-daytona-platinum---ice-blue-dial--id26529823.htm',), ('/rolex/rolex-daytona--platin--ice-blue-baguette-dial--box--papers--2021--id25736093.htm',), ('/rolex/cosmograph-daytona---full-set----ref-116506--id25574393.htm',), ('/rolex/daytona---ref-116506---box-amp-de-papiere---950er-platin---baguette-indizes---automatik---jahr-2022--id23885824.htm',), ('/rolex/daytona-cosmonaute-ref-116506-950-platinum-box-papers-bj-2019-lc100-germany-excellent--id25962024.htm',), ('/rolex/rolex-daytona-116506--neu--2022--full-set--id23973156.htm',), ('/rolex/rolex-daytona-cosmograph-40mm-platinum-ice-blue-dial-platine-new-2022--id25477048.htm',), ('/rolex/rolex-daytona-chronograph-950-platin-116506-factory-diamonds--id26340844.htm',), ('/rolex/daytona-platinum-ref-116506--6-2021--eu--new--full-set---id26085972.htm',), ('/rolex/rolex-daytona-116506-platinum-baguette--id25586636.htm',), ('/rolex/rolex-daytona-ref-116506-iceblau-brillant-baguette-zifferblatt--id23778326.htm',), ('/rolex/rolex-daytona--id26834167.htm',), ('/rolex/daytona--id26717026.htm',), ('/rolex/cosmograph-daytona--id25550973.htm',), ('/rolex/daytona--id25828869.htm',), ('/rolex/daytona--id25941922.htm',), ('/rolex/rolex-daytona-platin-baguette-new-2022-lc-eu-ref116506--id16388973.htm',), ('/rolex/rolex-rolex-daytona-cosmograph-platinum-like-new--id21956745.htm',), ('/rolex/rolex-daytona-platinum--diamond-index-2022-new--id23591552.htm',), ('/rolex/daytona-ref-116506-ice-blue-index-zifferblatt--id2500962.htm',), ('/rolex/rolex-rolex-daytona-platinum-116506--id18320486.htm',), ('/rolex/daytona-platin-116506-ice-blue--id23486718.htm',), ('/rolex/cosmograph-daytona-platinum-baguette-dial--id26063000.htm',), ('/rolex/rolex-daytona-platin-116506-aus-2020-voll-voll-vollverklebt-inklusive-qr-code-im-fullset--id23214622.htm',), ('/rolex/cosmograph-daytona--id27005606.htm',), ('/rolex/rolex-daytona-platinum-new-2022-lc-eu-ref116506--id19049990.htm',), ('/rolex/daytona-platin---116576tbr--id24913636.htm',), ('/rolex/rolex-daytona-arabic-in-platinum--diamond-116576tbr--id23580228.htm',), ('/rolex/rolex-daytona-116506-2014-eu-unpolished-platinum-ice-blue-top--id25175136.htm',), ('/rolex/rolex-daytona--id26957589.htm',), ('/rolex/rolex-daytona-ref116506---service-by-rolex---052022--id24836327.htm',), ('/rolex/-daytona-116506--id25707681.htm',), ('/rolex/rolex-daytona-in-platinum--diamond-116576tbr--id3090496.htm',), ('/rolex/cosmograph-daytona--id27005609.htm',), ('/rolex/rolex-daytona-in-platinum--baguette-diamond-dial---116506--id16585906.htm',), ('/rolex/daytona-platin-2022---116506--id25686574.htm',), ('/rolex/daytona-platin-2022---116506--id26411516.htm',), ('/rolex/cosmograph-daytona-in-platinum--diamond-bezel---116576-tbr--id4371474.htm',), ('/rolex/rolex-daytona-in-platinum-with-arabic-numerals---116506-0004--id9705944.htm',)]\n"
     ]
    }
   ],
   "source": [
    "\n",
    "sql_url_query = \"\"\"SELECT ErgebnisURL FROM url WHERE Alerter_fk = 2 \"\"\"\n",
    "cur.execute(sql_url_query)\n",
    "r = cur.fetchall()\n",
    "conn.commit()\n",
    "print(len(r))\n",
    "print(r)"
   ]
  },
  {
   "cell_type": "code",
   "execution_count": 100,
   "id": "d3a69027-eadb-41a4-92b2-2234f2792aad",
   "metadata": {},
   "outputs": [
    {
     "name": "stdout",
     "output_type": "stream",
     "text": [
      "wi19b075@technikum-wien.at\n"
     ]
    }
   ],
   "source": [
    "# wenn neue url gefunden: email wird geschickt \n",
    "# Abfragen der e-mail aus Datenbank \n",
    "\n",
    "mail_query = \"SELECT email FROM user WHERE userID = %s\"\n",
    "cur.execute(mail_query, (user, ))\n",
    "c = cur.fetchone()\n",
    "receiver = str(c[0])\n",
    "conn.commit\n",
    "\n",
    "print(receiver)\n"
   ]
  },
  {
   "cell_type": "code",
   "execution_count": 101,
   "id": "aa492872-ce18-4bdf-a8f6-8eecdc22ccdf",
   "metadata": {},
   "outputs": [],
   "source": [
    "\n",
    "# email Verschicken\n",
    "\n",
    "# Define email sender and receiver\n",
    "email_sender = 'searchforchrono@gmail.com'\n",
    "email_password = 'xqmdjtzjznhviung'\n",
    "email_receiver = receiver\n",
    "\n",
    "# Set the subject and body of the email\n",
    "subject = 'We found something new for you!'\n",
    "body = 'Go to these links: \\n' \n",
    "for url in newEntries: \n",
    "    body += \"https://www.chrono24.at\" + url + '\\n'\n",
    "    \n",
    "em = EmailMessage()\n",
    "em['From'] = email_sender\n",
    "em['To'] = email_receiver\n",
    "em['Subject'] = subject\n",
    "em.set_content(body)\n",
    "\n",
    "# Add SSL (layer of security)\n",
    "context = ssl.create_default_context()\n",
    "\n",
    "# Log in and send the email\n",
    "with smtplib.SMTP_SSL('smtp.gmail.com', 465, context=context) as smtp:\n",
    "    smtp.login(email_sender, email_password)\n",
    "    smtp.sendmail(email_sender, email_receiver, em.as_string())"
   ]
  },
  {
   "cell_type": "code",
   "execution_count": 104,
   "id": "27cfb7e6-55ea-4b70-b1d7-edf0a68859dd",
   "metadata": {},
   "outputs": [
    {
     "name": "stdout",
     "output_type": "stream",
     "text": [
      "[(1,), (2,), (3,), (4,), (5,)]\n",
      "https://www.chrono24.at/search/index.htm?countryIds=AT&countryIds=CH&countryIds=DE&currencyId=EUR&dosearch=true&manufacturerIds=18&maxAgeInDays=0&models=112&pageSize=60&redirectToSearchIndex=true&resultview=block&sortorder=0\n",
      "https://www.chrono24.at/search/index.htm?countryIds=AT&countryIds=CH&countryIds=DE&currencyId=EUR&dosearch=true&manufacturerIds=18&maxAgeInDays=0&models=112&pageSize=60&redirectToSearchIndex=true&resultview=block&sortorder=0\n",
      "https://www.chrono24.at/search/index.htm?countryIds=AT&countryIds=CH&countryIds=DE&currencyId=EUR&dosearch=true&manufacturerIds=18&maxAgeInDays=0&models=112&pageSize=60&redirectToSearchIndex=true&resultview=block&sortorder=0\n",
      "https://www.chrono24.at/search/index.htm?countryIds=AT&countryIds=CH&countryIds=DE&currencyId=EUR&dosearch=true&manufacturerIds=18&maxAgeInDays=0&models=112&pageSize=60&redirectToSearchIndex=true&resultview=block&sortorder=0\n",
      "https://www.chrono24.at/search/index.htm?countryIds=AT&countryIds=CH&countryIds=DE&currencyId=EUR&dosearch=true&manufacturerIds=18&maxAgeInDays=0&models=112&pageSize=60&redirectToSearchIndex=true&resultview=block&sortorder=0\n"
     ]
    }
   ],
   "source": [
    "\n",
    "    getURL(alertnr)\n",
    "    scrapUrl()\n",
    "    getReceiver()\n",
    "    sendAlert()\n",
    "    print(URL)\n",
    "\n"
   ]
  },
  {
   "cell_type": "code",
   "execution_count": 110,
   "id": "d5040d78-7714-4e90-ac71-c807473656fc",
   "metadata": {},
   "outputs": [
    {
     "name": "stdout",
     "output_type": "stream",
     "text": [
      "https://www.chrono24.at/search/index.htm?caseMaterials=3&currencyId=EUR&dosearch=true&manufacturerIds=32&maxAgeInDays=0&models=24&pageSize=60&redirectToSearchIndex=true&resultview=block&sortorder=0\n",
      "2\n"
     ]
    }
   ],
   "source": [
    "alertnr = 3\n",
    "sql_url_query = \"\"\"SELECT watchurl, user_fk FROM alerter WHERE AlerterID = %s \"\"\"\n",
    "cur.execute(sql_url_query, (alertnr, ))\n",
    "r = cur.fetchall()\n",
    "for x in r:\n",
    "    URL = str(x[0])\n",
    "    user = x[1]\n",
    "print(URL)\n",
    "print(user)"
   ]
  },
  {
   "cell_type": "code",
   "execution_count": null,
   "id": "1c56abce-3ba9-4ca4-b7fe-e8d78608944f",
   "metadata": {},
   "outputs": [],
   "source": [
    "# End of for-loop:\n",
    "conn.close()"
   ]
  },
  {
   "cell_type": "code",
   "execution_count": 109,
   "id": "7374a0a1-cd75-47fb-888b-eeaaa214ddb9",
   "metadata": {},
   "outputs": [
    {
     "name": "stdout",
     "output_type": "stream",
     "text": [
      "https://www.chrono24.at/search/index.htm?caseMaterials=7&countryIds=AT&countryIds=CH&countryIds=DE&currencyId=EUR&dosearch=true&manufacturerIds=221&maxAgeInDays=0&models=2&pageSize=60&redirectToSearchIndex=true&resultview=block&sortorder=0\n",
      "2\n"
     ]
    }
   ],
   "source": []
  },
  {
   "cell_type": "code",
   "execution_count": null,
   "id": "8cb74bfc-dde6-4a2f-8d71-66d94e189e58",
   "metadata": {},
   "outputs": [],
   "source": []
  },
  {
   "cell_type": "markdown",
   "id": "b8cc4348-ef7f-403c-9d4f-672b7af1244c",
   "metadata": {},
   "source": []
  },
  {
   "cell_type": "code",
   "execution_count": 17,
   "id": "d12c5efc-f125-434d-bace-46fded062e85",
   "metadata": {},
   "outputs": [],
   "source": [
    "\n"
   ]
  }
 ],
 "metadata": {
  "kernelspec": {
   "display_name": "Python 3 (ipykernel)",
   "language": "python",
   "name": "python3"
  },
  "language_info": {
   "codemirror_mode": {
    "name": "ipython",
    "version": 3
   },
   "file_extension": ".py",
   "mimetype": "text/x-python",
   "name": "python",
   "nbconvert_exporter": "python",
   "pygments_lexer": "ipython3",
   "version": "3.9.7"
  }
 },
 "nbformat": 4,
 "nbformat_minor": 5
}

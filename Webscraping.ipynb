{
 "cells": [
  {
   "cell_type": "markdown",
   "id": "6387ace9-8f5b-45ef-a16c-2b57f605825b",
   "metadata": {},
   "source": [
    "# Webscraping"
   ]
  },
  {
   "cell_type": "code",
   "execution_count": 3,
   "id": "4237bb25-2985-4d06-b92e-b8657303b4f4",
   "metadata": {},
   "outputs": [],
   "source": [
    "from urllib.request import urlopen\n",
    "from bs4 import BeautifulSoup\n",
    "import re\n",
    "import csv\n",
    "#import psycopg2\n",
    "import pandas as pd\n",
    "import datetime as dt\n",
    "import requests\n"
   ]
  },
  {
   "cell_type": "code",
   "execution_count": 4,
   "id": "1a024d25-133a-4300-b9e6-df1bc21009f0",
   "metadata": {},
   "outputs": [],
   "source": [
    "\n",
    "# hier muss man zuerst die url, die geöffnet werden soll, zusammenbauen\n",
    "\n",
    "URL = 'https://www.chrono24.at/search/index.htm?countryIds=AT&currencyId=EUR&dosearch=true&manufacturerIds=221&maxAgeInDays=0&models=2&pageSize=60&redirectToSearchIndex=true&resultview=block&sortorder=0&usedOrNew=new'\n",
    "\n",
    "\n",
    "\n",
    "html = requests.get(URL)\n",
    "\n",
    "\n",
    "bs = BeautifulSoup(html.content, 'html.parser')\n",
    "#print(bs)"
   ]
  },
  {
   "cell_type": "markdown",
   "id": "c42c0738-0ce6-4b3f-bcbc-4c59238e8112",
   "metadata": {},
   "source": [
    "durch die seite navigieren:"
   ]
  },
  {
   "cell_type": "code",
   "execution_count": 6,
   "id": "b5676b37-9450-4f12-b8db-5d8326fea1f7",
   "metadata": {},
   "outputs": [
    {
     "name": "stdout",
     "output_type": "stream",
     "text": [
      "<a class=\"article-item block-item rcard\" data-article-id=\"23781671\" data-manufacturer=\"Rolex\" href=\"/rolex/rolex-rolex-daytona-paul-newman-116518ln-partially-stickers--2022-new-bp--id23781671.htm\" onclick=\"if (c24.watchPositions != null) c24.watchPositions.store(23781671, 1);\">\n",
      "<div class=\"article-item-image-container box-ratio-1-1 m-b-2\">\n",
      "<div class=\"content overflow-hidden\">\n",
      "<img alt=\"\" src=\"https://cdn2.chrono24.com/images/uhren/23781671-izd29kjqj3umj1jhcmxulmgu-Square210.jpg\" srcset=\"https://cdn2.chrono24.com/images/uhren/23781671-izd29kjqj3umj1jhcmxulmgu-Square420.jpg 2x\"/></div>\n",
      "<div class=\"js-article-item-article-badge-wrapper article-item-article-badge-wrapper\">\n",
      "</div>\n",
      "<div class=\"article-item-notepad-toggle-wrapper\">\n",
      "</div>\n",
      "</div>\n",
      "<div class=\"p-x-2 p-x-sm-0\">\n",
      "<div class=\"text-bold text-ellipsis\">\n",
      "            Rolex Daytona</div>\n",
      "<div class=\"text-ellipsis m-b-2\">\n",
      "            Paul Newman 116518LN Partially stickers 2022 NEW B&amp;P</div>\n",
      "<div class=\"d-flex justify-content-between align-items-end m-b-2\">\n",
      "<div>\n",
      "<div class=\"text-bold\">\n",
      "                  46 950 <span class=\"currency\">€</span></div>\n",
      "<div class=\"text-muted text-sm\">\n",
      "                  + 539 € Versand</div>\n",
      "</div>\n",
      "<div class=\"align-self-end\">\n",
      "<button aria-label=\"Mehr Informationen\" class=\"js-tooltip d-flex flex-column align-items-center relative\" data-append-to-body=\"true\" data-content=\"Dieser Händler kommt aus Wien, Österreich.\" data-title=\"Österreich\" type=\"button\">\n",
      "<i class=\"i-location-inverse icon-sm m-r-0\"></i>\n",
      "<span class=\"text-sm text-uppercase\">\n",
      "               AT</span>\n",
      "</button>\n",
      "</div>\n",
      "</div>\n",
      "</div>\n",
      "</a>\n"
     ]
    }
   ],
   "source": [
    "results = bs.find('a', attrs={'class':'article-item block-item rcard'})\n",
    "print(results)\n",
    "#results_body = results.find('tbody')\n",
    "\n"
   ]
  },
  {
   "cell_type": "markdown",
   "id": "c45922ab-1279-483c-b562-dc97a2a6212b",
   "metadata": {},
   "source": [
    "um auf den link des einzelnen Ergebnisses zu kommen, brauchen wir den href-Eintrag des a-Elements und müssen ihn mit www.chrono24.at zusammensetzen..\n",
    "\n",
    "\n",
    "und um mehrere Einträge zu finden, versuchen wir es mit der findAll-Funktion:"
   ]
  },
  {
   "cell_type": "code",
   "execution_count": 11,
   "id": "59db5289-82cd-486e-a900-6d1433e43fed",
   "metadata": {},
   "outputs": [],
   "source": [
    "results = bs.find_all('a', attrs={'class':'article-item block-item rcard'})\n",
    "#print(results)"
   ]
  },
  {
   "cell_type": "code",
   "execution_count": 10,
   "id": "66d5c615-e874-4c27-bc14-d992f5647248",
   "metadata": {},
   "outputs": [
    {
     "name": "stdout",
     "output_type": "stream",
     "text": [
      "/rolex/rolex-rolex-daytona-paul-newman-116518ln-partially-stickers--2022-new-bp--id23781671.htm\n"
     ]
    }
   ],
   "source": [
    "results = bs.find('a', attrs={'class':'article-item block-item rcard'})['href']\n",
    "print(results)"
   ]
  },
  {
   "cell_type": "markdown",
   "id": "a0f7da64-2e18-4b55-935f-a77c1971b1c5",
   "metadata": {},
   "source": [
    "Einen Eintrag kann man so finden, aber will man alle finden, geht es mit der find_all-Funktion nicht\n",
    "\n"
   ]
  }
 ],
 "metadata": {
  "kernelspec": {
   "display_name": "Python 3 (ipykernel)",
   "language": "python",
   "name": "python3"
  },
  "language_info": {
   "codemirror_mode": {
    "name": "ipython",
    "version": 3
   },
   "file_extension": ".py",
   "mimetype": "text/x-python",
   "name": "python",
   "nbconvert_exporter": "python",
   "pygments_lexer": "ipython3",
   "version": "3.9.7"
  }
 },
 "nbformat": 4,
 "nbformat_minor": 5
}

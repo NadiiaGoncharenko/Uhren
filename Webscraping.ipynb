{
 "cells": [
  {
   "cell_type": "markdown",
   "id": "6387ace9-8f5b-45ef-a16c-2b57f605825b",
   "metadata": {},
   "source": [
    "# Webscraping"
   ]
  },
  {
   "cell_type": "code",
   "execution_count": 10,
   "id": "4237bb25-2985-4d06-b92e-b8657303b4f4",
   "metadata": {},
   "outputs": [],
   "source": [
    "from urllib.request import urlopen\n",
    "from bs4 import BeautifulSoup\n",
    "import re\n",
    "import csv\n",
    "#import psycopg2\n",
    "import pandas as pd\n",
    "import datetime as dt\n",
    "import requests\n"
   ]
  },
  {
   "cell_type": "code",
   "execution_count": 11,
   "id": "1a024d25-133a-4300-b9e6-df1bc21009f0",
   "metadata": {},
   "outputs": [],
   "source": [
    "\n",
    "# hier muss man zuerst die url, die geöffnet werden soll, zusammenbauen\n",
    "\n",
    "\n",
    "\n",
    "# Beispiel-URL\n",
    "URL = 'https://www.chrono24.at/search/index.htm?countryIds=AT&currencyId=EUR&dosearch=true&manufacturerIds=221&maxAgeInDays=0&models=2&pageSize=60&redirectToSearchIndex=true&resultview=block&sortorder=0&usedOrNew=new'\n",
    "\n",
    "\n",
    "\n",
    "html = requests.get(URL)\n",
    "\n",
    "\n",
    "bs = BeautifulSoup(html.content, 'html.parser')\n",
    "#print(bs)"
   ]
  },
  {
   "cell_type": "markdown",
   "id": "d9ab7d00-a5d0-44ea-bbb7-b1ad64e88b01",
   "metadata": {},
   "source": [
    "Als nächstes holen wir von der Beispiel-Seite alle Links zu den Uhren, die diese Suchanfrage ergibt"
   ]
  },
  {
   "cell_type": "code",
   "execution_count": 16,
   "id": "cb52f36a-1f5b-4131-acb9-a726bd9a63bc",
   "metadata": {
    "tags": []
   },
   "outputs": [
    {
     "name": "stdout",
     "output_type": "stream",
     "text": [
      "/rolex/rolex-daytona-diamond-dial-116519ln-fullset-new-0522--id24358880.htm\n",
      "/rolex/rolex-daytona-116515ln--chocolate--neu--2022--full-set--id24987542.htm\n",
      "/rolex/rolex-daytona-yellow-gold-diamonds-eye-of-the-tiger--id25849633.htm\n",
      "/rolex/daytona-yellow-gold-black-dial-unworn-vat-included--id22534452.htm\n",
      "/rolex/rolex-rolex-daytona--paul-newman--116518ln--partially-stickers--2022--new--bp--id23781671.htm\n",
      "/rolex/rolex-rolex-daytona-new-white-dial-116520-full-stickers--id23831042.htm\n",
      "/rolex/daytona-oyster-perpetual--id25474982.htm\n",
      "/rolex/rolex-daytona-rosegold-new-unworn-082022-boxpapers-black-dial-full-set--id24959514.htm\n",
      "/rolex/rolex-daytona--16520-p-serial--nosunworn---id25307786.htm\n",
      "/rolex/rolex-daytona-116509--2022--blau--neu---full-set--id24085168.htm\n",
      "/rolex/rolex-daytona-40mm-white-gold-silver-dial--id25799279.htm\n",
      "/rolex/daytona-champagne-panda-ref116518ln--id22603226.htm\n",
      "/rolex/rolex-daytona-ref-116520unpolishedp--serieneuzustandlc-eu--id11312065.htm\n",
      "/rolex/rolex-rolex-daytona-116518ln--meteorite--2022--neu--full-set--id24311085.htm\n",
      "/rolex/rolex-daytona-116500ln--neu--2022--full-set--id23959190.htm\n",
      "/rolex/daytona--id26086338.htm\n",
      "/rolex/rolex-daytona-panda-new-2019-box-austrian-papers-116500ln--id24970788.htm\n",
      "/rolex/rolex-daytona--116500ln--black-dial--unworn---id25500068.htm\n",
      "/rolex/rolex-daytona-116503-weiss--neu--2022--full-set---id23782148.htm\n",
      "/rolex/rolex-daytona-40mm-white-gold-meteorite-dial-full-stickers--id26188908.htm\n",
      "/rolex/daytona-ref116519ln-bj2022--id23650213.htm\n",
      "/rolex/rolex-daytona-ref-116520neu-foliert-eu122015--id12740789.htm\n",
      "/rolex/rolex-daytona-116505--neu--2022--chocolate--fullset--id23650218.htm\n",
      "/rolex/rolex-daytona-116515ln--sundust-baguette--neu--2022--full-set--id25186498.htm\n",
      "/rolex/daytona--id25061417.htm\n",
      "/rolex/rolex-daytona-panda-new-unwornstickers-2018-box--papers-full-set-116500ln--id23134873.htm\n",
      "/rolex/rolex-daytona-116515ln--sundust--neu--2022--full-set--id24085101.htm\n",
      "/rolex/rolex-daytona-116518--pikachu--neu--2022--full-set--id24869382.htm\n",
      "/rolex/rolex-daytona-116505--2022--neu--schwarz-mit-diamanten---id24651612.htm\n",
      "/rolex/daytona-ref116518ln--id25489812.htm\n",
      "/rolex/rolex-daytona-ref-116520bdbpnoslc-austriatraum--id19076372.htm\n",
      "/rolex/rolex-daytona-116518ln--neu--2022--full-set--id25191894.htm\n",
      "/rolex/rolex-rolex-daytona--meteorite--2022--neu--full-set--id24310967.htm\n",
      "/rolex/rolex-daytona-116509--2022--blau--neu--full-set--id26176155.htm\n",
      "/rolex/rolex-daytona-116519ln--diamant--neu--2022--full-set--id24869300.htm\n",
      "/rolex/rolex-daytona-john-mayer--ungetragen--2022--gruen--full-set--id26016171.htm\n",
      "/rolex/rolex-daytona-116500ln--weiss--neu--2022--full-set--id24987440.htm\n",
      "/rolex/rolex-rolex-daytona-116505--neu--2022--id25195129.htm\n",
      "/rolex/rolex-daytona-116508--neu--2022--pikachu-yml--full-set--id25220992.htm\n",
      "/rolex/rolex-daytona-ref-116520bdbpnoslc-japanfoliert--id22778936.htm\n",
      "/rolex/rolex-daytona-116519ln--neu--2022--full-set--id23786203.htm\n",
      "/rolex/rolex-daytona-116506-baguette-ungetragen--2022--full-set--id23973339.htm\n",
      "/rolex/rolex-daytona-116506--neu--2022--full-set--id23973156.htm\n"
     ]
    }
   ],
   "source": [
    "for entry in bs.find_all('a', class_ = 'article-item block-item rcard'):\n",
    "    link = entry['href']\n",
    "    print(link)"
   ]
  },
  {
   "cell_type": "markdown",
   "id": "a94bdc82-2f56-451b-b45d-62d782877ce5",
   "metadata": {},
   "source": [
    "Jetzt brauchen wir nur noch eine Datenbank, in der wir diese Einträge speichern.."
   ]
  },
  {
   "cell_type": "markdown",
   "id": "b04adafb-4194-4ce2-91b7-ed9d52dab2f0",
   "metadata": {},
   "source": [
    "Die folgenden Code-Snippets sind nur zur Erinnerung, wie die scraping-Abfrage aufgebaut wird."
   ]
  },
  {
   "cell_type": "markdown",
   "id": "c42c0738-0ce6-4b3f-bcbc-4c59238e8112",
   "metadata": {},
   "source": [
    "durch die seite navigieren:"
   ]
  },
  {
   "cell_type": "code",
   "execution_count": 4,
   "id": "b5676b37-9450-4f12-b8db-5d8326fea1f7",
   "metadata": {},
   "outputs": [
    {
     "name": "stdout",
     "output_type": "stream",
     "text": [
      "<a class=\"article-item block-item rcard\" data-article-id=\"24358880\" data-manufacturer=\"Rolex\" href=\"/rolex/rolex-daytona-diamond-dial-116519ln-fullset-new-0522--id24358880.htm\" onclick=\"trackTeaserEvent('search.wristwatch', 'pole-position-watches', {'articleId': '24358880'}); if (c24.watchPositions != null) c24.watchPositions.store(24358880, 1);\">\n",
      "<div class=\"article-item-image-container box-ratio-1-1 m-b-2\">\n",
      "<div class=\"content overflow-hidden\">\n",
      "<img alt=\"\" src=\"https://cdn2.chrono24.com/images/uhren/24358880-2yrjt9e3oq3bzzpng0gkrvwr-Square210.jpg\" srcset=\"https://cdn2.chrono24.com/images/uhren/24358880-2yrjt9e3oq3bzzpng0gkrvwr-Square420.jpg 2x\"/></div>\n",
      "<div class=\"js-article-item-article-badge-wrapper article-item-article-badge-wrapper\">\n",
      "<span class=\"article-item-article-badge\">\n",
      "               Gesponsert</span>\n",
      "</div>\n",
      "<div class=\"article-item-notepad-toggle-wrapper\">\n",
      "</div>\n",
      "</div>\n",
      "<div class=\"p-x-2 p-x-sm-0\">\n",
      "<div class=\"text-bold text-ellipsis\">\n",
      "            Rolex Daytona</div>\n",
      "<div class=\"text-ellipsis m-b-2\">\n",
      "            Diamond dial 116519LN Fullset new 05/22</div>\n",
      "<div class=\"d-flex justify-content-between align-items-end m-b-2\">\n",
      "<div>\n",
      "<div class=\"text-bold\">\n",
      "                  49 600 <span class=\"currency\">€</span></div>\n",
      "<div class=\"text-muted text-sm\">\n",
      "                  + 270 € Versand</div>\n",
      "</div>\n",
      "<div class=\"align-self-end\">\n",
      "<button aria-label=\"Mehr Informationen\" class=\"js-tooltip d-flex flex-column align-items-center relative\" data-append-to-body=\"true\" data-content=\"Dieser Händler kommt aus Bregenz, Österreich.\" data-title=\"Österreich\" type=\"button\">\n",
      "<i class=\"i-location-inverse icon-sm m-r-0\"></i>\n",
      "<span class=\"text-sm text-uppercase\">\n",
      "               AT</span>\n",
      "</button>\n",
      "</div>\n",
      "</div>\n",
      "</div>\n",
      "</a>\n"
     ]
    }
   ],
   "source": [
    "results = bs.find('a', attrs={'class':'article-item block-item rcard'})\n",
    "print(results)\n",
    "#results_body = results.find('tbody')\n",
    "\n"
   ]
  },
  {
   "cell_type": "markdown",
   "id": "c45922ab-1279-483c-b562-dc97a2a6212b",
   "metadata": {},
   "source": [
    "um auf den link des einzelnen Ergebnisses zu kommen, brauchen wir den href-Eintrag des a-Elements und müssen ihn mit www.chrono24.at zusammensetzen..\n",
    "\n",
    "\n",
    "und um mehrere Einträge zu finden, versuchen wir es mit der findAll-Funktion:"
   ]
  },
  {
   "cell_type": "code",
   "execution_count": 12,
   "id": "59db5289-82cd-486e-a900-6d1433e43fed",
   "metadata": {},
   "outputs": [],
   "source": [
    "results = bs.find_all('a', attrs={'class':'article-item block-item rcard'})\n",
    "#print(results)"
   ]
  },
  {
   "cell_type": "code",
   "execution_count": 13,
   "id": "66d5c615-e874-4c27-bc14-d992f5647248",
   "metadata": {},
   "outputs": [
    {
     "name": "stdout",
     "output_type": "stream",
     "text": [
      "/rolex/rolex-daytona-diamond-dial-116519ln-fullset-new-0522--id24358880.htm\n"
     ]
    }
   ],
   "source": [
    "results = bs.find('a', attrs={'class':'article-item block-item rcard'})['href']\n",
    "print(results)"
   ]
  },
  {
   "cell_type": "markdown",
   "id": "a0f7da64-2e18-4b55-935f-a77c1971b1c5",
   "metadata": {},
   "source": [
    "Einen Eintrag kann man so finden, aber will man alle finden, geht es mit der find_all-Funktion nicht\n",
    "\n"
   ]
  },
  {
   "cell_type": "markdown",
   "id": "5ddddec6-955e-4249-b987-d95ff615eed2",
   "metadata": {},
   "source": [
    "Select the URL attributes within all <div> tags with the id \"new\"\n",
    "    \n",
    "    x = sel.css('div#new > a::attr(href)')\n",
    "    print(x.extract())\n",
    "    \n",
    "['http://pitchfork.com/best/']"
   ]
  },
  {
   "cell_type": "code",
   "execution_count": null,
   "id": "ebede288-b63a-4829-a3cc-d392d5ef9378",
   "metadata": {},
   "outputs": [],
   "source": [
    "clockLink = bs.find('a', class_='article-item block-item rcard')['href']\n",
    "id = clockLink.split('/')[0]"
   ]
  },
  {
   "cell_type": "code",
   "execution_count": 17,
   "id": "81c79f87-443a-49eb-b264-4ada1f9d97fa",
   "metadata": {},
   "outputs": [],
   "source": [
    "for entry in bs.find_all('a', class_ = 'article-item block-item rcard'):\n",
    "    link=entry.find('href')\n",
    "#   print(link)\n"
   ]
  },
  {
   "cell_type": "code",
   "execution_count": null,
   "id": "45fb799e-8f52-4d86-9c62-3ec426aa62e5",
   "metadata": {},
   "outputs": [],
   "source": []
  },
  {
   "cell_type": "code",
   "execution_count": null,
   "id": "f235728f-1c09-4ab2-99f3-6afce8046fbb",
   "metadata": {},
   "outputs": [],
   "source": []
  },
  {
   "cell_type": "markdown",
   "id": "14729a3e-f34a-4041-9726-74c43e6ad29e",
   "metadata": {},
   "source": [
    "Scrapen für Referenznummern:"
   ]
  },
  {
   "cell_type": "code",
   "execution_count": 9,
   "id": "4680e744-34ae-4758-b2b8-37e648b420e1",
   "metadata": {},
   "outputs": [],
   "source": [
    "URL = 'https://www.chrono24.at/search/index.htm?countryIds=KR&countryIds=QA&currencyId=EUR&dosearch=true&manufacturerIds=221&maxAgeInDays=0&pageSize=60&redirectToSearchIndex=true&resultview=block&sortorder=0'\n",
    "\n",
    "html = requests.get(URL)\n",
    "\n",
    "bs = BeautifulSoup(html.content, 'html.parser')\n",
    "\n",
    "results = bs.find_all('a', attrs={'class':'article-item block-item rcard'})\n",
    "#print(results)"
   ]
  },
  {
   "cell_type": "markdown",
   "id": "a355c2b7-9fc0-4850-af02-9f43d1a7c3c5",
   "metadata": {},
   "source": [
    "https://www.chrono24.at/search/index.htm?dosearch=true&watchTypes=U&searchexplain=false&query=126710BLNR"
   ]
  }
 ],
 "metadata": {
  "kernelspec": {
   "display_name": "Python 3 (ipykernel)",
   "language": "python",
   "name": "python3"
  },
  "language_info": {
   "codemirror_mode": {
    "name": "ipython",
    "version": 3
   },
   "file_extension": ".py",
   "mimetype": "text/x-python",
   "name": "python",
   "nbconvert_exporter": "python",
   "pygments_lexer": "ipython3",
   "version": "3.9.7"
  }
 },
 "nbformat": 4,
 "nbformat_minor": 5
}
